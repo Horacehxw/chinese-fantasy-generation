{
 "cells": [
  {
   "cell_type": "code",
   "execution_count": 1,
   "metadata": {},
   "outputs": [],
   "source": [
    "from pathlib import Path\n",
    "data_path = Path(\"../data\").resolve()\n",
    "book_list = {\"唐家三少\":[\"斗罗大陆\", \"斗罗大陆II绝世唐门\", \"酒神\"],\n",
    "             \"天蚕土豆\":[\"斗破苍穹\", \"武动乾坤\", \"大主宰\", \"魔兽剑圣异界纵横\"],\n",
    "             \"猫腻\":[\"庆余年\", \"间客\", \"将夜\", \"朱雀记\", \"择天记\"]\n",
    "             }"
   ]
  },
  {
   "cell_type": "markdown",
   "metadata": {},
   "source": [
    "# 数据集生成\n",
    "## 1. 生成 datapoints.\n",
    "\n",
    "1. 方法一：固定 X (10) 个 sentence (comma separated)，删除 outlier.\n",
    "2. 方法二 (Optional, TODO later)：按照 sentence (comma, dot separated), 直到长度即将超过 N (200,300).\n",
    "3. 方法三 (Optinal): 按照分词模式进行."
   ]
  },
  {
   "cell_type": "code",
   "execution_count": 3,
   "metadata": {},
   "outputs": [],
   "source": [
    "from dataset import generate_paragraph"
   ]
  },
  {
   "cell_type": "code",
   "execution_count": 4,
   "metadata": {},
   "outputs": [
    {
     "name": "stdout",
     "output_type": "stream",
     "text": [
      "光之子外篇暗夜精灵（上）[SEP]夜云在站在古树下静静的站着，[SEP]这株古树在精灵森林中已经有数千年的历史了，[SEP]树高近百米，[SEP]枝叶茂盛，[SEP]给这片精灵森林中的生物们带来了勃勃生机，[SEP]它，[SEP]也是暗夜精灵族领地中最高的一株大树。[SEP]夜云轻轻拍打着自己背后那近乎透明的黑色翅膀，[SEP]眼中流露出一丝淡淡的担忧。\n",
      "眼中流露出一丝淡淡的担忧。[SEP]他是暗夜精灵族中的一员，[SEP]暗夜精灵王之子，[SEP]拥有着近乎完美的容貌和冷俊的气质。[SEP]精灵族的普遍身高本应是比人类矮一些的，[SEP]但他却是个例外，[SEP]竟然有一米八的海拔，[SEP]除了尖尖的耳朵和背后那对翅膀以外，[SEP]几乎和人类没有什么不同。[SEP]由于暗夜精灵一般都喜欢晚上才外出活动，\n",
      "由于暗夜精灵一般都喜欢晚上才外出活动，[SEP]所以夜云的皮肤显得异常白皙，[SEP]如同女人般的白皙。[SEP]“阿云，[SEP]我就知道你又跑到这里来了。”[SEP]一个温柔的声音在夜云耳边响起，[SEP]即使不用回首，[SEP]他也知道来人是谁。[SEP]轻叹道：“雨，[SEP]我想一个人静一静，\n",
      "我想一个人静一静，[SEP]好么？”[SEP]夜雨是他的族人，[SEP]从小一起长大的玩伴，[SEP]也是他最好的朋友。[SEP]黑色的身影一闪，[SEP]在夜云面前多了一名绝美的精灵，[SEP]她眼中满是关切和温柔之色，[SEP]长长的黑发飘散在背后，[SEP]手里握着一张黑色的短弓，\n",
      "手里握着一张黑色的短弓，[SEP]精致的五官搭配的如此和谐，[SEP]如白玉般的肌肤引人暇思。[SEP]身材娇小的她拍动着翅膀漂浮在半空中使自己可以和夜云对视，[SEP]轻叹道：“阿云，[SEP]你又何必多做担心呢？[SEP]我们暗夜精灵族早已经每况愈下，[SEP]这是早晚要发生的事。[SEP]不过，[SEP]我真的不想离开咱们的家园。”\n",
      "我真的不想离开咱们的家园。”[SEP]说着，[SEP]她缓缓低下了头，[SEP]美眸中流露出一丝哀伤。[SEP]夜云英俊的面庞突然激动起来，[SEP]他紧紧握住自己的双拳，[SEP]恨恨的说道：“不，[SEP]我一定不会让他们得逞的，[SEP]死也不会。[SEP]这里是我们的家园，\n",
      "这里是我们的家园，[SEP]没有谁能赶我们走。”[SEP]由于握的过紧，[SEP]他手上的骨骼咯咯做响，[SEP]在寂静的夜晚中听起来带着一丝诡异。[SEP]夜云和夜雨都属于精灵族中的分支——暗夜精灵族。[SEP]在这片天舞大陆上，[SEP]精灵族经过数千年的发展壮大，[SEP]已经占据了超过整片大陆四分之一的地域，[SEP]在这大片辽阔而肥沃的土地上，\n",
      "在这大片辽阔而肥沃的土地上，[SEP]成千上万的精灵种植了各种树木和植被，[SEP]经过长时间的成长，[SEP]形成了现在这样美丽富饶的景象。[SEP]天舞大陆的其余四分之三被人类所占据着，[SEP]那是三个文明古国，[SEP]足有数千年历史的文明古国，[SEP]分别是艾夏王国、达路王国和修达王国。[SEP]虽然精灵族在不断的壮大，[SEP]但由于精灵秉性善良、待人和善，\n",
      "但由于精灵秉性善良、待人和善，[SEP]三大王国也相安无事的任由他们发展成了天舞大陆上第四大势力。[SEP]远古时的精灵族统称为自然精灵，[SEP]那时的他们是不分彼此的，[SEP]始终是一个大族。[SEP]但是，[SEP]经过数千年的演变，[SEP]精灵族开始发生了变化。[SEP]他们按照所使用的魔法元素属性不同分为六类，[SEP]分别是擅长光系魔法的圣光精灵，\n",
      "分别是擅长光系魔法的圣光精灵，[SEP]擅长水系魔法的蓝月精灵，[SEP]擅长火系魔法的炎日精灵，[SEP]擅长风系魔法的扑云精灵，[SEP]擅长土系魔法的自然精灵以及擅长黑暗魔法的暗夜精灵。[SEP]六族的精灵有着非常明确的等级划分，[SEP]精灵族一般能够存活六百至一千年，[SEP]是大陆上最长寿的种族之一，[SEP]仅次于传说中的龙族。[SEP]年龄在五十岁以下的精灵，\n",
      "年龄在五十岁以下的精灵，[SEP]是最低阶的，[SEP]被称为小精灵，[SEP]当他们成长到五十岁以后，[SEP]经过族长精灵王的确认，[SEP]可以成为一名大精灵，[SEP]大精灵是精灵六族中的主干力量，[SEP]也是数量最大的。[SEP]经过自身的不断修炼，[SEP]实力超过同辈又受到高等级精灵认可后，\n",
      "实力超过同辈又受到高等级精灵认可后，[SEP]大精灵可以升级为精灵使，[SEP]精灵使有着掌管部分精灵的权利，[SEP]也是一般精灵所能达到的权力顶峰，[SEP]在他们之中，[SEP]只有那些为精灵族作出过特殊贡献而且实力超群的，[SEP]才有可能成为一名大精灵使，[SEP]大精灵使在精灵族中有着仅次于精灵王的权威，[SEP]而六族的精灵王都是一脉相传的，[SEP]是六大精灵族的统治者。\n",
      "是六大精灵族的统治者。[SEP]在六系精灵中以擅长光系魔法的圣光精灵最为强大，[SEP]在数千年前，[SEP]大陆上出现了前所未有的危机，[SEP]一个强大、邪恶的种族降临大陆，[SEP]它们给大陆带来了无与伦比的灾难。[SEP]在那时，[SEP]人类突然出现了一位英雄，[SEP]他出身于艾夏王国，[SEP]凭借着其超人的天赋成为了传说中的大魔导师，\n",
      "凭借着其超人的天赋成为了传说中的大魔导师，[SEP]在他的带领下人类英雄们同妖族做着殊死的搏斗，[SEP]在付出了无数代价之后，[SEP]终于将这个邪恶的种族彻底铲除了，[SEP]而艾夏王国的这位英雄也被后世共尊为光之子，[SEP]如同天神一般被大陆各国供奉着，[SEP]在妖族毁灭以后，[SEP]艾夏王国借着光之子的威名，[SEP]也逐渐占据了人类三大帝国的领导地位。[SEP]圣光精灵之所以强大，\n",
      "圣光精灵之所以强大，[SEP]正是和这位光之子有关，[SEP]当初，[SEP]在他来到了精灵族时，[SEP]曾经将自己的光系魔法原理传授给了部分精灵，[SEP]凭借着光系魔法的强大，[SEP]这批精灵逐渐登上了精灵族的历史舞台，[SEP]也就是现在圣光精灵的前身。[SEP]从精灵分成六族以来，[SEP]圣光精灵一直占据着统治地位，\n",
      "圣光精灵一直占据着统治地位，[SEP]由于属性相克，[SEP]他们向来对擅长黑暗魔法的暗夜精灵没有什么好感。[SEP]暗夜精灵族和其他五大精灵族最大的不同，[SEP]就是他们一般都是在夜里活动的，[SEP]他们很少和其他精灵族来往，[SEP]性格多半孤僻，[SEP]在圣光精灵的带领下，[SEP]其他精灵族对暗夜精灵都非常排斥。[SEP]原本实力均衡的六族在这种情况下渐渐发生了变化。\n",
      "原本实力均衡的六族在这种情况下渐渐发生了变化。[SEP]暗夜精灵族的领地和族人的数量随着时间的推移逐渐的减少着，[SEP]现在只能在这一小片精灵森林中比较贫瘠的土地上艰苦的生活着，[SEP]而他们族人的数量已经仅有不到三万了，[SEP]和圣光精灵近百万族人相比，[SEP]实在是相差甚远。[SEP]几个月以前，[SEP]一名暗夜精灵族族人无意间进入了炎日精灵领地，[SEP]炎日精灵和圣光精灵一样，[SEP]对暗夜精灵非常排斥，\n",
      "比炎日精灵要强了不少，[SEP]在促不及防之下，[SEP]有三名炎日精灵死在了那名暗夜精灵手下，[SEP]但毕竟那里是炎日精灵的领地，[SEP]战斗很快就结束了，[SEP]那名暗夜精灵也付出了他年轻的生命。[SEP]消息很快传到了暗夜精灵族，[SEP]当时暗夜精灵王就知道，[SEP]五大精灵族一定不会善罢甘休的，[SEP]他们等待这样的机会已经很久了。\n",
      "他们等待这样的机会已经很久了。[SEP]果然。[SEP]今天，[SEP]就在今天，[SEP]圣光精灵族联合另外四精灵族向暗夜精灵族发出了通牒，[SEP]通牒的内容很简单，[SEP]上面写着：经五大精灵族协商，[SEP]决定让信奉黑暗的暗夜精灵族于十天之内退出精灵森林，[SEP]否则，[SEP]将联合五族之力对暗夜精灵族进行清剿。\n",
      "将联合五族之力对暗夜精灵族进行清剿。[SEP]现在，[SEP]整个暗夜精灵族中都处于一片慌乱之中，[SEP]包括精灵王在内，[SEP]谁也不知道该如何处理这样的情况。[SEP]精灵一脉从诞生之日起就生存在这片宽广的精灵森林中，[SEP]这里是他们的家园啊！[SEP]夜雨轻轻一叹，[SEP]凑到夜云身旁，[SEP]拉起他那攥的很紧的拳头，\n",
      "拉起他那攥的很紧的拳头，[SEP]黯然道：“云，[SEP]你别这样，[SEP]刚才精灵王大人已经做出决定了。”[SEP]夜云全身一震，[SEP]睁大眼睛道：“这么快就作出决定了么？[SEP]父亲，[SEP]父亲他是怎么决定的？”[SEP]夜雨犹豫了一下，[SEP]正视着夜云那漆黑的双眸，\n",
      "正视着夜云那漆黑的双眸，[SEP]毅然道：“精灵王大人决定，[SEP]让我们所有族人收拾东西，[SEP]准备迁徙。”[SEP]听了夜雨这句话，[SEP]夜云全身剧烈的颤抖起来，[SEP]额头上青筋暴露，[SEP]两只尖尖的耳朵不断的颤抖着，[SEP]“这，[SEP]这不可能。\n",
      "这不可能。[SEP]父亲，[SEP]父亲他怎么会这么决定呢？[SEP]这里是我们的家园啊！[SEP]我们已经付出的够多了，[SEP]不，[SEP]我不走，[SEP]我绝对不走。[SEP]雨，[SEP]难道几位大精灵使也同意了么？”\n",
      "难道几位大精灵使也同意了么？”[SEP]夜云默默的点了点头，[SEP]道：“是的，[SEP]在权衡利弊的情况下，[SEP]所有的大精灵使和精灵使们都同意了，[SEP]虽然族人们很难接受，[SEP]但是，[SEP]我们又怎么违背精灵王大人的意愿呢。[SEP]云，[SEP]你千万不要冲动啊！\n",
      "你千万不要冲动啊！[SEP]精灵王大人也是为了大家好，[SEP]五大精灵族联合起来的数量超过三百万，[SEP]是我们的一百倍，[SEP]而且他们中高手倍出，[SEP]又怎么是我们所能抗衡的呢？[SEP]精灵王大人之所以如此决定，[SEP]就是为了让我们暗夜精灵一脉能够传承下去，[SEP]一旦硬拼，[SEP]我们只有全族灭亡的结局，\n",
      "我们只有全族灭亡的结局，[SEP]云，[SEP]听我一句，[SEP]接受你父亲的命令吧。”[SEP]夜云的眼睛渐渐泛红，[SEP]全身散发出一层肃杀之气，[SEP]他的声音变得无比冰冷，[SEP]“不，[SEP]要走你们走，[SEP]我是绝不会离开这生活了百年的地方，\n",
      "我是绝不会离开这生活了百年的地方，[SEP]除非我死，[SEP]否则绝对不让圣光那群混蛋侵占我们的家乡。”[SEP]精灵的生活虽然很单调，[SEP]但他们都安于这种平淡的生活，[SEP]而夜云更是其中的典范，[SEP]从小他就知道，[SEP]暗夜精灵一族在六大精灵族中最为孱弱，[SEP]他是暗夜精灵王唯一的儿子，[SEP]为了能带领族人重振暗夜精灵族的雄风，\n",
      "为了能带领族人重振暗夜精灵族的雄风，[SEP]他对自己的要求异常严格，[SEP]每天的绝大部分时间都用来刻苦修炼，[SEP]一百岁的精灵就相当与人类二十岁的青年，[SEP]夜云早在十几年前，[SEP]就已经成为了精灵族中有史以来最年轻的精灵使，[SEP]他的黑暗魔法已经得到了精灵王的真传，[SEP]暗夜精灵王血脉的传承使他天生就有亲近暗元素的能力，[SEP]再加上刻苦努力，[SEP]他的实力在整个暗夜精灵族之中已经可以排进前二十位。\n",
      "他的实力在整个暗夜精灵族之中已经可以排进前二十位。[SEP]夜雨从小和夜云一起长大，[SEP]两人年纪相仿，[SEP]她又怎么会不了解夜云的固执呢？[SEP]她知道，[SEP]自己无论如何也无法劝说他改变主意。[SEP]轻叹一声，[SEP]道：“那你想怎么样呢？[SEP]十天以后和五大族拼个死活么？[SEP]难道你不知道五大族的实力？\n",
      "难道你不知道五大族的实力？[SEP]和他们硬拼，[SEP]你只有白白送死而已啊！”[SEP]夜云心中充满了憎恨，[SEP]空气中的暗元素不断向他凝聚着，[SEP]在那强大的威势下，[SEP]夜雨不禁向后飘飞出几米，[SEP]庞大的气势突然收敛，[SEP]夜云波动的情绪渐渐平复下来，[SEP]他淡淡的说道：“送死么？\n",
      "他淡淡的说道：“送死么？[SEP]即使送死又有什么，[SEP]为了族人的尊严，[SEP]我愿意去死，[SEP]但是，[SEP]即使我死了，[SEP]也一定会让他们付出惨痛的代价。[SEP]雨，[SEP]我们走吧，[SEP]我想回去见见父亲。”\n",
      "我想回去见见父亲。”[SEP]夜雨将短弓背在自己的肩膀上，[SEP]她没有再说什么，[SEP]但是，[SEP]在她的眼眸深处，[SEP]却流露出一丝坚定的神色，[SEP]似乎在这一刻，[SEP]她已经决定了什么似的。[SEP]和夜云同时展开翅膀，[SEP]在弥漫的夜色中朝着暗夜精灵族领地的中央飞去。\n",
      "在弥漫的夜色中朝着暗夜精灵族领地的中央飞去。[SEP]即使暗夜精灵的领地是精灵族中最为贫瘠的，[SEP]但仍然有着远超人类世界的美景，[SEP]一条蜿蜒的小溪从这片暗夜精灵族领地的中央穿过，[SEP]在月光的照射下，[SEP]那参差婆娑的树影给森林中增添了几分神秘。[SEP]不论是哪一族的精灵，[SEP]他们生活的方式都很相近，[SEP]精灵向来是居住在树屋中的，[SEP]这些树屋，\n",
      "这些树屋，[SEP]是他们将树木过于茂盛的枝叶砍伐下来，[SEP]经过特殊工艺处理后再建造成自己的房子。[SEP]树屋外表看似简陋，[SEP]但却非常结实，[SEP]往往建造一次就可以居住百年之久。[SEP]每一个精灵家庭都会有一座这样的树屋，[SEP]直到孩子长大成家后，[SEP]才会在另外建造一个。[SEP]在这片暗夜精灵的领地中，\n",
      "这株古树并不是因为寿命长才会变得如此巨大的，[SEP]而是因为在它之上栖息着精灵拥有精灵王血脉，[SEP]那最接近于自然的血脉孕育着这株巨树，[SEP]使它在不长的时间内长得如此粗壮，[SEP]枝叶茂盛的覆盖了接近数百平方米的范围。[SEP]“夜云，[SEP]你回来了，[SEP]你爸爸正找你呢？”[SEP]从巨树上飞出几名暗夜精灵，[SEP]拦住了两条人影的去路。\n",
      "拦住了两条人影的去路。[SEP]夜云和夜雨停了下来，[SEP]夜云道：“夜路叔叔，[SEP]你们是不是来和父亲商量五族通牒的事？”[SEP]夜路今年已经三百多岁了，[SEP]是暗夜精灵族两名大精灵使之一，[SEP]看上去如同人类的中年人一般，[SEP]比起夜云来要矮小的多，[SEP]但他的黑暗魔法在整个暗夜精灵族中却仅次于夜云的父亲精灵王，[SEP]他也相当于夜云的半个师傅，\n",
      "他也相当于夜云的半个师傅，[SEP]暗夜精灵王没空的时候就由他来传授夜云，[SEP]同时，[SEP]他也是夜雨的父亲。[SEP]轻叹一声，[SEP]夜路默默的点了点头，[SEP]道：“孩子，[SEP]看来我们要远离自己的家园了。[SEP]我现在要去准备一些东西，[SEP]你们进去吧。”\n",
      "你们进去吧。”[SEP]夜雨有些担忧的看了一眼全身笼罩在肃杀之气内的夜云，[SEP]道：“爸爸，[SEP]难道真的一点挽回的余地都没有么？[SEP]无论怎么说，[SEP]我们也是精灵啊！[SEP]他们就真的如此绝情，[SEP]非要把我们赶出去才满意么？”[SEP]夜路愤愤的道：“那帮家伙从来就没把我们当成同族看待，[SEP]他们排挤我们也不是一天两天了，\n",
      "他们排挤我们也不是一天两天了，[SEP]这次好不容易抓到机会自然不会轻易放过。[SEP]族长的决定是明智的，[SEP]为了给我们暗夜精灵族保有延续下去的血脉，[SEP]我们现在只能忍辱暂退。”[SEP]“不——，[SEP]我绝对不离开这里，[SEP]这是我们的家园，[SEP]我和他们拼了。”[SEP]夜云的眼睛变得一片血红，\n",
      "夜云的眼睛变得一片血红，[SEP]身体周围那澎湃的黑暗气劲连夜路也暗暗心惊，[SEP]皱眉道：“孩子，[SEP]你身上的杀气太盛了。[SEP]不要冲动，[SEP]难道你想凭借自己一人之力和五族数百万战士抗衡么？[SEP]那是不现实的。”[SEP]夜云没有吭声，[SEP]拍动着自己的翅膀骤然向隐没在巨树茂盛枝叶中的树屋飞去。[SEP]看着夜云离去的身影，\n",
      "看着夜云离去的身影，[SEP]夜雨双眸中泪光隐现，[SEP]低声道：“爸爸，[SEP]云，[SEP]云他这次恐怕不会那么容易屈服啊！”[SEP]夜路飞到女儿身旁，[SEP]淡淡的说道：“阿云的脾气我们都知道，[SEP]但是，[SEP]族长是不会让他乱来的。[SEP]他是我们暗夜精灵族千年难遇的奇才，\n",
      "他是我们暗夜精灵族千年难遇的奇才，[SEP]振兴暗夜精灵族的重任还要靠他完成。[SEP]走吧，[SEP]让他和族长好好谈谈，[SEP]你跟我回去。”[SEP]说完，[SEP]扯着有些不甘愿的夜雨隐没在夜色之中。[SEP]夜云拍打着翅膀，[SEP]以最快的速度冲入了树屋之中，[SEP]树屋内，\n",
      "她一看到自己儿子冲了进来，[SEP]眼中流露出几丝暖意，[SEP]轻叹一声，[SEP]道：“阿云，[SEP]你回来了，[SEP]过来，[SEP]爸爸妈妈有话跟你说。”[SEP]听着母亲温柔、慈和的声音，[SEP]夜云激荡的心情平复了一些，[SEP]木然走到母亲身旁，\n",
      "木然走到母亲身旁，[SEP]道：“妈妈，[SEP]您不用说了，[SEP]我什么都知道。[SEP]要走你们走，[SEP]我是绝对不会离开这里的，[SEP]这里是我的家，[SEP]谁也别想把我从这里赶走。”[SEP]他的话说的无比坚定，[SEP]听的夜星全身一震。\n",
      "听的夜星全身一震。[SEP]“混帐。”[SEP]那名中年男性精灵猛的站了起来，[SEP]庞大的气势压迫的夜云不自觉的退后一步，[SEP]两人眉宇间长的很像，[SEP]就连身形也有八分相似，[SEP]只是中年精灵的脸上多了几分沧桑。[SEP]这名中年精灵正是统治着整个暗夜精灵族的暗夜精灵王——夜风。[SEP]眼中寒芒电闪，[SEP]夜风微怒道：“从现在开始，\n",
      "夜风微怒道：“从现在开始，[SEP]你给我老实的在家待着，[SEP]哪儿也不许去，[SEP]我和族里的几位长老已经商量好了，[SEP]不与其他精灵五族冲突，[SEP]尽快撤出这片土地。”[SEP]看着父亲怒气勃发的样子，[SEP]夜云没有一丝畏惧，[SEP]抗声道：“爸爸，[SEP]您怎么能这么决定呢？\n",
      "您怎么能这么决定呢？[SEP]我们暗夜精灵都是您的子民，[SEP]您怎么能带着我们离开自己的家园呢？[SEP]就算是死在战场上，[SEP]我也绝不苟且偷生，[SEP]我愿意为保护我们的领地奉献出自己最后一滴鲜血。”[SEP]夜风全身微颤，[SEP]看着儿子那毅然的表情，[SEP]眼中流露出复杂的神色，[SEP]脸上的怒色渐渐消失了，\n",
      "脸上的怒色渐渐消失了，[SEP]长叹一声，[SEP]并未看他作势，[SEP]却已经来到了夜云身前，[SEP]在夜云有些惊愕的注视下，[SEP]夜风飘飞在半空之中，[SEP]双手抓住夜云那比自己还要高半个头的肩膀。[SEP]眼眸中流露出一丝柔和的光芒，[SEP]淡然道：“孩子，[SEP]你还小，\n",
      "你还小，[SEP]有些事情你是不明白的，[SEP]等你以后继承了本族王位就会明白了。[SEP]有的时候，[SEP]尊严虽然重要，[SEP]但却比不上生命，[SEP]每一个生命都有他生存的权力，[SEP]难道你想看着我们的族人就因为一时意气而被彻底覆灭么？[SEP]本来我们的人口就已经很稀少了，[SEP]经不起损伤啊！\n",
      "经不起损伤啊！[SEP]作为暗夜精灵之王，[SEP]为了族人的繁衍，[SEP]我只能做出如此决定了。[SEP]孩子，[SEP]你是我暗夜精灵一族千年不世出的英才，[SEP]爸爸相信，[SEP]将来的某一天，[SEP]你一定能带领我们的族人重新返回这里，[SEP]返回我们本源的领地。”\n",
      "返回我们本源的领地。”[SEP]夜云完全楞住了，[SEP]听了父亲这番话，[SEP]他的心潮澎湃欺负，[SEP]他从父亲的眼神中看到了挣扎和痛苦，[SEP]看到了不甘和愤慨，[SEP]父亲竟然说自己是暗夜精灵族千年一出的英才么？[SEP]这好象是自己有生以来，[SEP]父亲第一次对自己做出正面的评价。[SEP]自从自己有意识以来，\n",
      "自从自己有意识以来，[SEP]就在父亲严厉的教导下不断的修炼着，[SEP]平日里，[SEP]在自己眼中父亲根本就没有笑容，[SEP]这是怎么了？[SEP]今天这是怎么了？[SEP]五大精灵族的入侵竟然让父亲的态度改变了。[SEP]难道面前这个慈和的老年精灵才是父亲真正的面目么？[SEP]夜云刚想说些什么，[SEP]却看到了父亲眼中的那一抹精光，\n",
      "却看到了父亲眼中的那一抹精光，[SEP]冰冷的暗黑魔力顺着父亲的双手瞬间流入了他的体内，[SEP]看着父亲眼中的那一抹凄然，[SEP]在庞大的能量作用下，[SEP]夜云全身一软，[SEP]昏倒在父亲怀中。[SEP]夜风抱着自己儿子的身体，[SEP]慈祥的道：“我的孩子啊！[SEP]暗夜精灵一族以后就看你的了。”[SEP]缓缓将夜云昏倒的身体放在一旁的椅子上，\n",
      "缓缓将夜云昏倒的身体放在一旁的椅子上，[SEP]夜风转向妻子，[SEP]眼眸中流露着浓浓的爱意，[SEP]“星儿，[SEP]我们结合也有近五百年了吧。”[SEP]夜星轻轻的点了点头，[SEP]飘身到夜风身前，[SEP]缓缓偎入他的怀中，[SEP]轻叹道：“是啊！[SEP]已经有四百九十七年了，\n",
      "已经有四百九十七年了，[SEP]你已经六百一十二岁，[SEP]而我也已经快六百岁了，[SEP]在这六百年的岁月中，[SEP]我们始终没有分开过，[SEP]风，[SEP]我爱你，[SEP]我永远都那么爱你，[SEP]不论你做出什么样的决定，[SEP]我都会和你在一起，\n",
      "我都会和你在一起，[SEP]但是，[SEP]你一定不要赶我走，[SEP]好么？”[SEP]夜风全身一震，[SEP]失声道：“你，[SEP]你已经…[SEP]…”[SEP]夜星温柔的一笑，[SEP]道：“别忘了，\n",
      "道：“别忘了，[SEP]我是你的妻子啊！[SEP]你心中所想，[SEP]我又怎么会不明白呢？[SEP]我的爱人，[SEP]我会永远和你在一起的。”[SEP]夜风紧紧的将妻子的娇躯搂紧，[SEP]两行清泪流淌而下，[SEP]喃喃的道：“星儿，[SEP]我，\n",
      "我，[SEP]我怎么能让你跟我一起…[SEP]…”[SEP]夜星按住了丈夫的嘴，[SEP]轻轻的摇了摇头，[SEP]道：“别说了，[SEP]你的心意我知道，[SEP]但你却别想抛下我，[SEP]夫妻多年，[SEP]你也知道我的脾气，\n",
      "你也知道我的脾气，[SEP]决定的事情，[SEP]是不会再更改的，[SEP]别让我离开你，[SEP]我的爱人。”[SEP]看着妻子眼眸深处的坚决，[SEP]夜风哽咽着道：“星儿，[SEP]能有你为妻，[SEP]我夜风这一生够了，[SEP]我们都已经六百多岁，\n",
      "我们都已经六百多岁，[SEP]也算不上夭折了。[SEP]好，[SEP]我答应你，[SEP]就让我们永远在一起，[SEP]让我们的灵魂永远缠绕在一起，[SEP]永生永世都不分开。”[SEP]十天后，[SEP]暗夜精灵森林深处，[SEP]所有的暗夜精灵族人都已经收拾好了自己的物品整装待发，\n",
      "所有的暗夜精灵族人都已经收拾好了自己的物品整装待发，[SEP]在他们眼眸中都流露着淡淡的悲哀，[SEP]足足三万人，[SEP]却没有谁发出一丝声息。[SEP]夜风、夜星、夜路，[SEP]这暗夜精灵族的三位领导者飘飞在半空之中，[SEP]夜风和夜星都显得异常疲惫，[SEP]似乎完全是靠翅膀的力量在支撑着他们的身体，[SEP]在他们的面庞上已经显出了老态。[SEP]夜路的眼眸中充满了悲伤，\n",
      "夜路的眼眸中充满了悲伤，[SEP]不时背过身去抹掉眼中的泪水。[SEP]夜风的声音显得那么苍老无力，[SEP]看着面前这数万族人，[SEP]他淡淡的说道：“我夜风，[SEP]是暗夜精灵族的罪人，[SEP]我没有能力保卫我们的领土不被外人所入侵，[SEP]就要离开我们自己的领地了，[SEP]希望大家能够坚强起来，[SEP]找到另一个地方生存，\n",
      "找到另一个地方生存，[SEP]作为一个罪人，[SEP]我必须要为自己的罪行付出代价，[SEP]我下达最后一个命令，[SEP]从今天开始，[SEP]夜云将成为新的暗夜精灵王，[SEP]我相信，[SEP]总有一天他会带着大家重新返回我们领地的。”[SEP]听完夜风这一番话，[SEP]暗夜精灵门的表情各不相同，\n",
      "暗夜精灵门的表情各不相同，[SEP]夜路再也无法忍耐眼中的泪水，[SEP]哽咽着哭泣出声，[SEP]暗夜精灵中有少数人流露出悲伤之意，[SEP]而大多数人则充满了迷惘和懵懂，[SEP]显然这些单纯的精灵还不太明白他们的王到底是什么意思。[SEP]夜风扭头看向夜路，[SEP]轻轻的拍了拍他的肩膀，[SEP]道：“大精灵使，[SEP]一切就拜托你了，\n",
      "一切就拜托你了，[SEP]出发吧。”[SEP]夜路猛的抱住了夜风的肩膀，[SEP]泣道：“大哥，[SEP]让我也在这里追随你吧。”[SEP]夜风轻叹一声，[SEP]道：“我的好兄弟，[SEP]不要说傻话了，[SEP]暗夜精灵一族需要你，[SEP]在云儿觉醒之时，\n",
      "在云儿觉醒之时，[SEP]还需要你带领大家去寻找新的生存之地。[SEP]时间不多了，[SEP]快走吧。[SEP]只有在你的帮助下，[SEP]云儿才能成功的接掌我的王位。”[SEP]夜路缓缓抬起头，[SEP]他那英俊刚毅的面庞上已经布满了泪水，[SEP]松开搂住夜风的双臂，[SEP]漂浮在半空之中，\n",
      "漂浮在半空之中，[SEP]他突然咬破了自己的食指，[SEP]在虚空中连续震颤着画出一个怪异的符号，[SEP]眼中精芒大放，[SEP]夜路凝重的道：“我，[SEP]暗夜精灵族大精灵使夜路，[SEP]以自己的鲜血为誓，[SEP]有生之年，[SEP]将尽全力辅佐新的暗夜精灵王夜云，[SEP]绝无二心，\n",
      "绝无二心，[SEP]使我们暗夜精灵一族发展起来。[SEP]如违此誓言，[SEP]愿受到暗黑大神最严酷的惩罚。”[SEP]话音刚落，[SEP]在他面前那血红色的符号顿时化为一缕流光，[SEP]消失在天际之中。[SEP]夜风眼中流露出一丝欣慰之色，[SEP]微微躬身道：“谢谢你了，[SEP]贤弟。”\n",
      "贤弟。”[SEP]夜路深深的看了夜风一眼，[SEP]猛的转过身，[SEP]面向众暗夜精灵大喝道：“出发。”[SEP]说完，[SEP]头也不回的朝远方飞去，[SEP]数万暗夜精灵纷纷腾空而起，[SEP]在夜路的带领下缓缓消失在夜空之中，[SEP]离开自己的领地对于这些暗夜精灵来说，[SEP]是一件多么痛苦的事，\n",
      "是一件多么痛苦的事，[SEP]但为了种族的延续，[SEP]他们又有什么办法呢？[SEP]带着不舍和屈辱的泪水，[SEP]他们走了，[SEP]静悄悄的离开了这生活了成千上万年的领地。[SEP]看着自己的族人们渐渐消失在视线中，[SEP]夜风和夜星的眼眸中都充满了泪水，[SEP]两人缓缓飘落在地，[SEP]微微的有些喘息，\n",
      "微微的有些喘息，[SEP]对视一眼，[SEP]夜风道：“该来的就要来了，[SEP]星儿，[SEP]就让我们迎接这一切吧。”[SEP]说完，[SEP]拉着自己妻子的手，[SEP]两人走到了暗夜精灵领地中那株最大的树下缓缓坐了下来。[SEP]在他们彼此的眼神中只有对方，[SEP]他们都在争取用这最后的时刻将自己爱人的相貌记清楚。\n",
      "他们都在争取用这最后的时刻将自己爱人的相貌记清楚。[SEP]不知道过了多长时间，[SEP]夜星轻轻一叹，[SEP]道：“他们来了。”[SEP]夜风点了点头，[SEP]小心的将妻子那黑色的长发梳拢到她背后，[SEP]微笑道：“来吧，[SEP]该来的终于来了。”[SEP]细碎的破空声渐渐响起，[SEP]无数身影缓缓朝夜风和夜星所在的暗夜精灵王之树而来，\n",
      "无数身影缓缓朝夜风和夜星所在的暗夜精灵王之树而来，[SEP]树林中的枝叶不断的发出沙沙声响，[SEP]听在夜风夫妻耳中说不出的萧索。[SEP]白、红、青、蓝、黄五色光芒同时亮起，[SEP]五条身影带起五色流光闪电般出现在夜风夫妻面前。[SEP]他们是五个精灵，[SEP]四男一女，[SEP]为首的，[SEP]是一名全身笼罩在白色光芒中的中年精灵男子，[SEP]白色的光芒中充满了神圣气息，\n",
      "我们有两百年不见了吧，[SEP]看样子你们的修为都有了不小的进步。”[SEP]圣光精灵王白云轻飘飘的飞上前，[SEP]刚一进入暗夜精灵森林他就知道这里的暗夜精灵都已经撤走了，[SEP]作为和黑暗相克的光明，[SEP]白云向来对暗夜精灵一族充满了成见，[SEP]微微皱眉道：“夜风族长，[SEP]你的族人都舍你而去了么？”[SEP]夜风轻轻的摇了摇头，[SEP]道：“不，\n",
      "道：“不，[SEP]他们是听从我的命令而去的。[SEP]在你们的逼迫下，[SEP]我们又怎么能不走呢？[SEP]我们暗夜精灵的这片领地你们尽可瓜分了，[SEP]在精灵森林中，[SEP]再不会出现我们一族。”[SEP]炎日精灵王火炙飘飞到白云身旁，[SEP]道：“那你为什么不走？”[SEP]夜风轻笑一声，\n",
      "夜风轻笑一声，[SEP]道：“我？[SEP]我能走么？[SEP]我不能。[SEP]我是暗夜精灵族之王，[SEP]我的族人可以为了生存而离开，[SEP]但是我不能。[SEP]我们暗夜精灵族已经是那么的弱小，[SEP]根本无法对你们构成任何威胁，[SEP]我只是希望你们能够遵守先前那最后通牒中的承诺，\n",
      "我只是希望你们能够遵守先前那最后通牒中的承诺，[SEP]不要再为难我的族人们了。[SEP]所有的一切，[SEP]就都让我来承担吧。”[SEP]回首深深的看了妻子一眼，[SEP]眼神中包含着无尽的爱意，[SEP]夜风走到暗夜精灵王之树旁盘膝坐了下来，[SEP]缓缓合上了双眼。[SEP]夜星没有任何悲戚的表情，[SEP]夜风那临别时的一眼已经告诉了她很多很多。\n",
      "夜风那临别时的一眼已经告诉了她很多很多。[SEP]微微一笑，[SEP]她坐到了丈夫身旁，[SEP]冲五大精灵王道：“你们的目的达到了。[SEP]五位精灵之王。”[SEP]说完，[SEP]她作出了夜风同样的动作，[SEP]依偎在他身旁坐了下来，[SEP]合上了双眸。[SEP]白云和其他四位精灵王全都楞住了，\n",
      "白云和其他四位精灵王全都楞住了，[SEP]他们清晰的感觉到，[SEP]生机正在从夜风夫妻的身上消失。[SEP]黑色的光芒渐渐亮起，[SEP]夜风和夜星的身体模糊起来。[SEP]蓝月精灵王水柔不忍的道：“不要，[SEP]夜风族长。”[SEP]但是，[SEP]现在说什么都已经晚了，[SEP]黑光闪亮，\n",
      "他们是带着笑容离开的。[SEP]空气中变得一片死寂，[SEP]五位精灵王面面相觑，[SEP]他们谁也没想到最后竟然会是这样的结果，[SEP]为了自己的族人，[SEP]夜风夫妻竟然甘愿献出了宝贵的生命。[SEP]水柔喃喃的道：“我们这样做真的对么？[SEP]暗夜精灵真的是邪恶的么？”[SEP]白云缓缓合上双眸，[SEP]叹息道：“一切都已经过去了。\n",
      "叹息道：“一切都已经过去了。[SEP]来人。”[SEP]几个全身散发着强大气势的圣光精灵出现在他身后，[SEP]躬身道：“王，[SEP]请您吩咐。”[SEP]白云道：“传我命令，[SEP]所有本族精锐立刻退回领地，[SEP]不许任何人追击暗夜精灵族。”[SEP]“是。”[SEP]其他四位精灵王也纷纷下达了同样的命令。\n",
      "其他四位精灵王也纷纷下达了同样的命令。[SEP]此次为了对付暗夜精灵族他们调集了数十万精灵五族精锐。[SEP]自然精灵王土俾道：“看来我们真的是错了。[SEP]错已铸成无法挽回。”[SEP]白云轻轻的摇了摇头，[SEP]道：“我们走吧，[SEP]这块暗夜精灵族的领地就保留下来，[SEP]如果以后他们愿意回来，[SEP]我们也不要阻拦的好。”[SEP]扑云精灵王风易冷哼一声，\n",
      "扑云精灵王风易冷哼一声，[SEP]道：“早知今日又何必当初。[SEP]本是同根生、相煎和太急。”[SEP]说完，[SEP]拍打着自己那青色的翅膀转瞬间消失在其余四大精灵王的视线中，[SEP]在精灵五族里，[SEP]他和蓝月精灵王本来是反对向暗夜精灵出兵的，[SEP]但奈何圣光精灵的势力过于强大，[SEP]他们也只好虚与尾蛇。[SEP]夜风的死对这五位精灵王的震撼极大，\n",
      "夜风的死对这五位精灵王的震撼极大，[SEP]他们在看到夜风夫妻消失的瞬间心中的善念同时升了起来，[SEP]再也无法兴起任何恶念。[SEP]暗夜精灵森林重新恢复了平静，[SEP]但是，[SEP]这里却没有了暗夜精灵的踪迹，[SEP]死一般的寂静蔓延到整片暗夜精灵森林中的每一个角落。[SEP]偶尔出现几声虫鸣鸟叫，[SEP]也似乎是在为夜风夫妻的死而悲戚。[SEP]艾夏王国边缘的一片大森林中，\n",
      "艾夏王国边缘的一片大森林中，[SEP]无数黑色的身影正在不断的忙碌着。[SEP]这片森林是艾夏王国中最大的一片原始森林，[SEP]茂密的枝叶几乎遍布森林中每一个角落。[SEP]在这里生活着无数的动物和昆虫，[SEP]由于其中毒虫众多，[SEP]路径又极为复杂，[SEP]所以鲜有人迹，[SEP]被森林外围的一些人类村落称为迷雾森林。[SEP]在夜路的带领下，\n"
     ]
    }
   ],
   "source": [
    "book = data_path/\"唐家三少\"/\"斗罗大陆.txt\"\n",
    "text = book.read_text()[:10000]\n",
    "for para in generate_paragraph(text):\n",
    "    print(para)"
   ]
  },
  {
   "cell_type": "code",
   "execution_count": 5,
   "metadata": {},
   "outputs": [],
   "source": [
    "datapoint_list = []\n",
    "for author in book_list:\n",
    "    author_dir = data_path/author\n",
    "    for book in book_list[author]:\n",
    "        book_file = author_dir/\"{}.clean.txt\".format(book)\n",
    "        text = book_file.read_text(encoding=\"utf-8\")\n",
    "        for paragraph in generate_paragraph(text):\n",
    "            datapoint = {\"author\":author,\n",
    "                         \"book\":book,\n",
    "                         \"text\":paragraph\n",
    "                        }\n",
    "            datapoint_list.append(datapoint)\n"
   ]
  },
  {
   "cell_type": "code",
   "execution_count": 6,
   "metadata": {},
   "outputs": [],
   "source": [
    "datapoints_len = [len(x[\"text\"])-len(\"[SEP]\")*9 for x in datapoint_list]\n",
    "sorted_datapoints = sorted(zip(datapoint_list, datapoints_len), key=lambda x: x[1], reverse=True)"
   ]
  },
  {
   "cell_type": "code",
   "execution_count": 7,
   "metadata": {},
   "outputs": [
    {
     "data": {
      "text/plain": [
       "<matplotlib.axes._subplots.AxesSubplot at 0x7f463ef42fd0>"
      ]
     },
     "execution_count": 7,
     "metadata": {},
     "output_type": "execute_result"
    },
    {
     "data": {
      "image/png": "[encoded data removed]",
      "text/plain": [
       "<Figure size 432x288 with 1 Axes>"
      ]
     },
     "metadata": {
      "needs_background": "light"
     },
     "output_type": "display_data"
    }
   ],
   "source": [
    "import seaborn as sns\n",
    "sns.distplot(datapoints_len, rug=True)"
   ]
  },
  {
   "cell_type": "code",
   "execution_count": 8,
   "metadata": {},
   "outputs": [],
   "source": [
    "import numpy as np\n",
    "def show_list_stat(lst):\n",
    "    quantile01 = np.quantile(lst, 0.001)\n",
    "    quantile1 = np.quantile(lst, 0.01)\n",
    "    quantile10 = np.quantile(lst, 0.1)\n",
    "    median = np.median(lst)\n",
    "    quantile90 = np.quantile(lst, 0.9)\n",
    "    quantile99 = np.quantile(lst, 0.99)\n",
    "    quantile999 = np.quantile(lst,0.999)\n",
    "    quantile9999 = np.quantile(lst,0.9999)\n",
    "    print(\"0.1% Quantile =\\t\\t {}\\n1% Quantile =\\t\\t {}\\n10% Quantile =\\t\\t {}\\n\"\n",
    "          \"Median =\\t\\t {}\\n90% Quantile =\\t\\t {}\\n99% Quantile =\\t\\t {}\\n99.9% Quantile\"\n",
    "          \" =\\t {}\\n99.99% Quantile =\\t {}\".format(quantile01,\n",
    "        quantile1, quantile10, median, quantile90, quantile99, quantile999, quantile9999))"
   ]
  },
  {
   "cell_type": "code",
   "execution_count": 9,
   "metadata": {},
   "outputs": [
    {
     "name": "stdout",
     "output_type": "stream",
     "text": [
      "0.1% Quantile =\t\t 54.0\n",
      "1% Quantile =\t\t 67.0\n",
      "10% Quantile =\t\t 83.0\n",
      "Median =\t\t 106.0\n",
      "90% Quantile =\t\t 132.0\n",
      "99% Quantile =\t\t 157.0\n",
      "99.9% Quantile =\t 176.0\n",
      "99.99% Quantile =\t 194.0\n"
     ]
    }
   ],
   "source": [
    "show_list_stat(datapoints_len)"
   ]
  },
  {
   "cell_type": "code",
   "execution_count": 10,
   "metadata": {},
   "outputs": [
    {
     "data": {
      "text/plain": [
       "({'author': '猫腻',\n",
       "  'book': '间客',\n",
       "  'text': '承受痛苦的能力异常强悍可面对着这股力量,[SEP]竟忍不住痛苦地闷哼了一声。[SEP]手腕间那根手指吐出的力量骤然炸开就像垂成了无数把滚烫的刀,[SEP]在身体内那此神寿力量涌诺内肆意割切一种精神上的血淋淋感觉,[SEP]一种身体内部难以承受的嫩肉撕裂感令他年臂上的汗毛狠狠竖[SEP]如果任由这股力量侵蚀割切或许那火他妾练多年,[SEP]却知其然不知其所以然的神奇线条,[SEP]在下一外便会十十断型。[SEP]许乐对这方面没有太多认知但那和丰骨悚然的危机感,[SEP]下意识里催动腰后椎骨旁的肌肉群猛然柚拯灼热的力量骤然爆,'},\n",
       " 219)"
      ]
     },
     "execution_count": 10,
     "metadata": {},
     "output_type": "execute_result"
    }
   ],
   "source": [
    "# Very long sequences\n",
    "import random\n",
    "random.choice(sorted_datapoints[:10])"
   ]
  },
  {
   "cell_type": "code",
   "execution_count": 11,
   "metadata": {},
   "outputs": [
    {
     "data": {
      "text/plain": [
       "({'author': '猫腻',\n",
       "  'book': '择天记',\n",
       "  'text': '难以成句,[SEP]充满了恐惧与绝望:\"妖……[SEP]妖……[SEP]女……[SEP]血……[SEP]血里有……[SEP]毒![SEP]说完这句话,[SEP]他就死了。[SEP]落阳宗长老,'},\n",
       " 51)"
      ]
     },
     "execution_count": 11,
     "metadata": {},
     "output_type": "execute_result"
    }
   ],
   "source": [
    "# Very short sequences\n",
    "random.choice(sorted_datapoints[-400:])"
   ]
  },
  {
   "cell_type": "code",
   "execution_count": 12,
   "metadata": {},
   "outputs": [
    {
     "data": {
      "text/plain": [
       "427375"
      ]
     },
     "execution_count": 12,
     "metadata": {},
     "output_type": "execute_result"
    }
   ],
   "source": [
    "len(sorted_datapoints)"
   ]
  },
  {
   "cell_type": "code",
   "execution_count": 13,
   "metadata": {},
   "outputs": [],
   "source": [
    "datapoint_list_new = [x for x in datapoint_list if len(x[\"text\"])-len(\"[SEP]\")*9 > 60]"
   ]
  },
  {
   "cell_type": "code",
   "execution_count": 14,
   "metadata": {},
   "outputs": [
    {
     "data": {
      "text/plain": [
       "425975"
      ]
     },
     "execution_count": 14,
     "metadata": {},
     "output_type": "execute_result"
    }
   ],
   "source": [
    "len(datapoint_list_new)"
   ]
  },
  {
   "cell_type": "code",
   "execution_count": 2,
   "metadata": {},
   "outputs": [
    {
     "ename": "FileNotFoundError",
     "evalue": "[Errno 2] No such file or directory: '/srv/node/sdb1/hxw/pycharm_deployment/proj_dl/data/data.json'",
     "output_type": "error",
     "traceback": [
      "\u001b[0;31m---------------------------------------------------------------------------\u001b[0m",
      "\u001b[0;31mFileNotFoundError\u001b[0m                         Traceback (most recent call last)",
      "\u001b[0;32m<ipython-input-2-ca0947e3b020>\u001b[0m in \u001b[0;36m<module>\u001b[0;34m\u001b[0m\n\u001b[1;32m      1\u001b[0m \u001b[0;32mimport\u001b[0m \u001b[0mjson\u001b[0m\u001b[0;34m\u001b[0m\u001b[0;34m\u001b[0m\u001b[0m\n\u001b[1;32m      2\u001b[0m \u001b[0mdatapoints_file\u001b[0m \u001b[0;34m=\u001b[0m \u001b[0mdata_path\u001b[0m\u001b[0;34m/\u001b[0m\u001b[0;34m\"data.json\"\u001b[0m\u001b[0;34m\u001b[0m\u001b[0;34m\u001b[0m\u001b[0m\n\u001b[0;32m----> 3\u001b[0;31m \u001b[0;32mwith\u001b[0m \u001b[0mdatapoints_file\u001b[0m\u001b[0;34m.\u001b[0m\u001b[0mopen\u001b[0m\u001b[0;34m(\u001b[0m\u001b[0mmode\u001b[0m\u001b[0;34m=\u001b[0m\u001b[0;34m\"r\"\u001b[0m\u001b[0;34m)\u001b[0m \u001b[0;32mas\u001b[0m \u001b[0mf\u001b[0m\u001b[0;34m:\u001b[0m\u001b[0;34m\u001b[0m\u001b[0;34m\u001b[0m\u001b[0m\n\u001b[0m\u001b[1;32m      4\u001b[0m     \u001b[0mdatapoints\u001b[0m \u001b[0;34m=\u001b[0m \u001b[0mjson\u001b[0m\u001b[0;34m.\u001b[0m\u001b[0mload\u001b[0m\u001b[0;34m(\u001b[0m\u001b[0mf\u001b[0m\u001b[0;34m)\u001b[0m\u001b[0;34m\u001b[0m\u001b[0;34m\u001b[0m\u001b[0m\n",
      "\u001b[0;32m~/anaconda3/envs/NLG/lib/python3.7/pathlib.py\u001b[0m in \u001b[0;36mopen\u001b[0;34m(self, mode, buffering, encoding, errors, newline)\u001b[0m\n\u001b[1;32m   1201\u001b[0m             \u001b[0mself\u001b[0m\u001b[0;34m.\u001b[0m\u001b[0m_raise_closed\u001b[0m\u001b[0;34m(\u001b[0m\u001b[0;34m)\u001b[0m\u001b[0;34m\u001b[0m\u001b[0;34m\u001b[0m\u001b[0m\n\u001b[1;32m   1202\u001b[0m         return io.open(self, mode, buffering, encoding, errors, newline,\n\u001b[0;32m-> 1203\u001b[0;31m                        opener=self._opener)\n\u001b[0m\u001b[1;32m   1204\u001b[0m \u001b[0;34m\u001b[0m\u001b[0m\n\u001b[1;32m   1205\u001b[0m     \u001b[0;32mdef\u001b[0m \u001b[0mread_bytes\u001b[0m\u001b[0;34m(\u001b[0m\u001b[0mself\u001b[0m\u001b[0;34m)\u001b[0m\u001b[0;34m:\u001b[0m\u001b[0;34m\u001b[0m\u001b[0;34m\u001b[0m\u001b[0m\n",
      "\u001b[0;32m~/anaconda3/envs/NLG/lib/python3.7/pathlib.py\u001b[0m in \u001b[0;36m_opener\u001b[0;34m(self, name, flags, mode)\u001b[0m\n\u001b[1;32m   1056\u001b[0m     \u001b[0;32mdef\u001b[0m \u001b[0m_opener\u001b[0m\u001b[0;34m(\u001b[0m\u001b[0mself\u001b[0m\u001b[0;34m,\u001b[0m \u001b[0mname\u001b[0m\u001b[0;34m,\u001b[0m \u001b[0mflags\u001b[0m\u001b[0;34m,\u001b[0m \u001b[0mmode\u001b[0m\u001b[0;34m=\u001b[0m\u001b[0;36m0o666\u001b[0m\u001b[0;34m)\u001b[0m\u001b[0;34m:\u001b[0m\u001b[0;34m\u001b[0m\u001b[0;34m\u001b[0m\u001b[0m\n\u001b[1;32m   1057\u001b[0m         \u001b[0;31m# A stub for the opener argument to built-in open()\u001b[0m\u001b[0;34m\u001b[0m\u001b[0;34m\u001b[0m\u001b[0;34m\u001b[0m\u001b[0m\n\u001b[0;32m-> 1058\u001b[0;31m         \u001b[0;32mreturn\u001b[0m \u001b[0mself\u001b[0m\u001b[0;34m.\u001b[0m\u001b[0m_accessor\u001b[0m\u001b[0;34m.\u001b[0m\u001b[0mopen\u001b[0m\u001b[0;34m(\u001b[0m\u001b[0mself\u001b[0m\u001b[0;34m,\u001b[0m \u001b[0mflags\u001b[0m\u001b[0;34m,\u001b[0m \u001b[0mmode\u001b[0m\u001b[0;34m)\u001b[0m\u001b[0;34m\u001b[0m\u001b[0;34m\u001b[0m\u001b[0m\n\u001b[0m\u001b[1;32m   1059\u001b[0m \u001b[0;34m\u001b[0m\u001b[0m\n\u001b[1;32m   1060\u001b[0m     \u001b[0;32mdef\u001b[0m \u001b[0m_raw_open\u001b[0m\u001b[0;34m(\u001b[0m\u001b[0mself\u001b[0m\u001b[0;34m,\u001b[0m \u001b[0mflags\u001b[0m\u001b[0;34m,\u001b[0m \u001b[0mmode\u001b[0m\u001b[0;34m=\u001b[0m\u001b[0;36m0o777\u001b[0m\u001b[0;34m)\u001b[0m\u001b[0;34m:\u001b[0m\u001b[0;34m\u001b[0m\u001b[0;34m\u001b[0m\u001b[0m\n",
      "\u001b[0;31mFileNotFoundError\u001b[0m: [Errno 2] No such file or directory: '/srv/node/sdb1/hxw/pycharm_deployment/proj_dl/data/data.json'"
     ]
    }
   ],
   "source": [
    "import json\n",
    "datapoints_file = data_path/\"data.json\"\n",
    "with datapoints_file.open(mode=\"r\") as f:\n",
    "    datapoints = json.load(f)"
   ]
  },
  {
   "cell_type": "code",
   "execution_count": 86,
   "metadata": {},
   "outputs": [
    {
     "data": {
      "text/plain": [
       "True"
      ]
     },
     "execution_count": 86,
     "metadata": {},
     "output_type": "execute_result"
    }
   ],
   "source": [
    "datapoints == datapoint_list_new"
   ]
  },
  {
   "cell_type": "markdown",
   "metadata": {},
   "source": [
    "## 2. Build Vocabulary\n",
    "### 2.1 Try BERT tokenizer\n",
    "\n",
    "reference: https://github.com/huggingface/transformers#installation"
   ]
  },
  {
   "cell_type": "code",
   "execution_count": 2,
   "metadata": {},
   "outputs": [],
   "source": [
    "from transformers import BertTokenizer, BertModel"
   ]
  },
  {
   "cell_type": "code",
   "execution_count": 7,
   "metadata": {},
   "outputs": [],
   "source": [
    "tokenizer = BertTokenizer.from_pretrained(\"bert-base-chinese\")"
   ]
  },
  {
   "cell_type": "code",
   "execution_count": 8,
   "metadata": {},
   "outputs": [],
   "source": [
    "text = \"无数橘子同时朝着……霍雨浩那看着有些扭曲的身影飞去,[SEP]而在她身边那名英俊青年却是双手抬起,[SEP]接连六个六边形暗金sè的小盒子甩出,[SEP]一面暗金sè光幕将他们四人全部保护在内,[SEP]而且正是在霍雨浩释放出的那一圈白sè光晕尚未抵达之前。[SEP]四人也在同时释放他们的武魂,[SEP]强大的魂导器也需要足够的魂力来催动才能发挥出最大的作用。[SEP]娇小少女肩膀上骤然出现了一个和她身材极不成比例的巨大炮管,[SEP]这炮管比当初和菜头用的雷霆巨炮还要大上几分,[SEP]看上去分量也应该不轻才对。\"\n",
    "text_toks = tokenizer.tokenize(text)"
   ]
  },
  {
   "cell_type": "code",
   "execution_count": 9,
   "metadata": {},
   "outputs": [
    {
     "data": {
      "text/plain": [
       "221"
      ]
     },
     "execution_count": 9,
     "metadata": {},
     "output_type": "execute_result"
    }
   ],
   "source": [
    "len(text_toks)"
   ]
  },
  {
   "cell_type": "code",
   "execution_count": 10,
   "metadata": {},
   "outputs": [
    {
     "data": {
      "text/plain": [
       "260"
      ]
     },
     "execution_count": 10,
     "metadata": {},
     "output_type": "execute_result"
    }
   ],
   "source": [
    "len(text)"
   ]
  },
  {
   "cell_type": "code",
   "execution_count": 118,
   "metadata": {
    "collapsed": true
   },
   "outputs": [
    {
     "data": {
      "text/plain": [
       "['无',\n",
       " '数',\n",
       " '橘',\n",
       " '子',\n",
       " '同',\n",
       " '时',\n",
       " '朝',\n",
       " '着',\n",
       " '[UNK]',\n",
       " '[UNK]',\n",
       " '霍',\n",
       " '雨',\n",
       " '浩',\n",
       " '那',\n",
       " '看',\n",
       " '着',\n",
       " '有',\n",
       " '些',\n",
       " '扭',\n",
       " '曲',\n",
       " '的',\n",
       " '身',\n",
       " '影',\n",
       " '飞',\n",
       " '去',\n",
       " ',',\n",
       " '[SEP]',\n",
       " '而',\n",
       " '在',\n",
       " '她',\n",
       " '身',\n",
       " '边',\n",
       " '那',\n",
       " '名',\n",
       " '英',\n",
       " '俊',\n",
       " '青',\n",
       " '年',\n",
       " '却',\n",
       " '是',\n",
       " '双',\n",
       " '手',\n",
       " '抬',\n",
       " '起',\n",
       " ',',\n",
       " '[SEP]',\n",
       " '接',\n",
       " '连',\n",
       " '六',\n",
       " '个',\n",
       " '六',\n",
       " '边',\n",
       " '形',\n",
       " '暗',\n",
       " '金',\n",
       " '[UNK]',\n",
       " '的',\n",
       " '小',\n",
       " '盒',\n",
       " '子',\n",
       " '甩',\n",
       " '出',\n",
       " ',',\n",
       " '[SEP]',\n",
       " '一',\n",
       " '面',\n",
       " '暗',\n",
       " '金',\n",
       " '[UNK]',\n",
       " '光',\n",
       " '幕',\n",
       " '将',\n",
       " '他',\n",
       " '们',\n",
       " '四',\n",
       " '人',\n",
       " '全',\n",
       " '部',\n",
       " '保',\n",
       " '护',\n",
       " '在',\n",
       " '内',\n",
       " ',',\n",
       " '[SEP]',\n",
       " '而',\n",
       " '且',\n",
       " '正',\n",
       " '是',\n",
       " '在',\n",
       " '霍',\n",
       " '雨',\n",
       " '浩',\n",
       " '释',\n",
       " '放',\n",
       " '出',\n",
       " '的',\n",
       " '那',\n",
       " '一',\n",
       " '圈',\n",
       " '白']"
      ]
     },
     "execution_count": 118,
     "metadata": {},
     "output_type": "execute_result"
    }
   ],
   "source": [
    "text_toks[:100]"
   ]
  },
  {
   "cell_type": "code",
   "execution_count": 4,
   "metadata": {
    "scrolled": true
   },
   "outputs": [
    {
     "data": {
      "application/vnd.jupyter.widget-view+json": {
       "model_id": "e31340a98741427cad0334b8b6de9bb5",
       "version_major": 2,
       "version_minor": 0
      },
      "text/plain": [
       "HBox(children=(FloatProgress(value=0.0, description='Downloading', max=624.0, style=ProgressStyle(description_…"
      ]
     },
     "metadata": {},
     "output_type": "display_data"
    },
    {
     "name": "stdout",
     "output_type": "stream",
     "text": [
      "\n"
     ]
    },
    {
     "data": {
      "application/vnd.jupyter.widget-view+json": {
       "model_id": "dee81f2c01354316bf167e927016ebae",
       "version_major": 2,
       "version_minor": 0
      },
      "text/plain": [
       "HBox(children=(FloatProgress(value=0.0, description='Downloading', max=411577189.0, style=ProgressStyle(descri…"
      ]
     },
     "metadata": {},
     "output_type": "display_data"
    },
    {
     "name": "stdout",
     "output_type": "stream",
     "text": [
      "\n"
     ]
    }
   ],
   "source": [
    "bert_model = BertModel.from_pretrained(\"bert-base-chinese\")"
   ]
  },
  {
   "cell_type": "code",
   "execution_count": 5,
   "metadata": {},
   "outputs": [
    {
     "data": {
      "text/plain": [
       "BertModel(\n",
       "  (embeddings): BertEmbeddings(\n",
       "    (word_embeddings): Embedding(21128, 768, padding_idx=0)\n",
       "    (position_embeddings): Embedding(512, 768)\n",
       "    (token_type_embeddings): Embedding(2, 768)\n",
       "    (LayerNorm): LayerNorm((768,), eps=1e-12, elementwise_affine=True)\n",
       "    (dropout): Dropout(p=0.1, inplace=False)\n",
       "  )\n",
       "  (encoder): BertEncoder(\n",
       "    (layer): ModuleList(\n",
       "      (0): BertLayer(\n",
       "        (attention): BertAttention(\n",
       "          (self): BertSelfAttention(\n",
       "            (query): Linear(in_features=768, out_features=768, bias=True)\n",
       "            (key): Linear(in_features=768, out_features=768, bias=True)\n",
       "            (value): Linear(in_features=768, out_features=768, bias=True)\n",
       "            (dropout): Dropout(p=0.1, inplace=False)\n",
       "          )\n",
       "          (output): BertSelfOutput(\n",
       "            (dense): Linear(in_features=768, out_features=768, bias=True)\n",
       "            (LayerNorm): LayerNorm((768,), eps=1e-12, elementwise_affine=True)\n",
       "            (dropout): Dropout(p=0.1, inplace=False)\n",
       "          )\n",
       "        )\n",
       "        (intermediate): BertIntermediate(\n",
       "          (dense): Linear(in_features=768, out_features=3072, bias=True)\n",
       "        )\n",
       "        (output): BertOutput(\n",
       "          (dense): Linear(in_features=3072, out_features=768, bias=True)\n",
       "          (LayerNorm): LayerNorm((768,), eps=1e-12, elementwise_affine=True)\n",
       "          (dropout): Dropout(p=0.1, inplace=False)\n",
       "        )\n",
       "      )\n",
       "      (1): BertLayer(\n",
       "        (attention): BertAttention(\n",
       "          (self): BertSelfAttention(\n",
       "            (query): Linear(in_features=768, out_features=768, bias=True)\n",
       "            (key): Linear(in_features=768, out_features=768, bias=True)\n",
       "            (value): Linear(in_features=768, out_features=768, bias=True)\n",
       "            (dropout): Dropout(p=0.1, inplace=False)\n",
       "          )\n",
       "          (output): BertSelfOutput(\n",
       "            (dense): Linear(in_features=768, out_features=768, bias=True)\n",
       "            (LayerNorm): LayerNorm((768,), eps=1e-12, elementwise_affine=True)\n",
       "            (dropout): Dropout(p=0.1, inplace=False)\n",
       "          )\n",
       "        )\n",
       "        (intermediate): BertIntermediate(\n",
       "          (dense): Linear(in_features=768, out_features=3072, bias=True)\n",
       "        )\n",
       "        (output): BertOutput(\n",
       "          (dense): Linear(in_features=3072, out_features=768, bias=True)\n",
       "          (LayerNorm): LayerNorm((768,), eps=1e-12, elementwise_affine=True)\n",
       "          (dropout): Dropout(p=0.1, inplace=False)\n",
       "        )\n",
       "      )\n",
       "      (2): BertLayer(\n",
       "        (attention): BertAttention(\n",
       "          (self): BertSelfAttention(\n",
       "            (query): Linear(in_features=768, out_features=768, bias=True)\n",
       "            (key): Linear(in_features=768, out_features=768, bias=True)\n",
       "            (value): Linear(in_features=768, out_features=768, bias=True)\n",
       "            (dropout): Dropout(p=0.1, inplace=False)\n",
       "          )\n",
       "          (output): BertSelfOutput(\n",
       "            (dense): Linear(in_features=768, out_features=768, bias=True)\n",
       "            (LayerNorm): LayerNorm((768,), eps=1e-12, elementwise_affine=True)\n",
       "            (dropout): Dropout(p=0.1, inplace=False)\n",
       "          )\n",
       "        )\n",
       "        (intermediate): BertIntermediate(\n",
       "          (dense): Linear(in_features=768, out_features=3072, bias=True)\n",
       "        )\n",
       "        (output): BertOutput(\n",
       "          (dense): Linear(in_features=3072, out_features=768, bias=True)\n",
       "          (LayerNorm): LayerNorm((768,), eps=1e-12, elementwise_affine=True)\n",
       "          (dropout): Dropout(p=0.1, inplace=False)\n",
       "        )\n",
       "      )\n",
       "      (3): BertLayer(\n",
       "        (attention): BertAttention(\n",
       "          (self): BertSelfAttention(\n",
       "            (query): Linear(in_features=768, out_features=768, bias=True)\n",
       "            (key): Linear(in_features=768, out_features=768, bias=True)\n",
       "            (value): Linear(in_features=768, out_features=768, bias=True)\n",
       "            (dropout): Dropout(p=0.1, inplace=False)\n",
       "          )\n",
       "          (output): BertSelfOutput(\n",
       "            (dense): Linear(in_features=768, out_features=768, bias=True)\n",
       "            (LayerNorm): LayerNorm((768,), eps=1e-12, elementwise_affine=True)\n",
       "            (dropout): Dropout(p=0.1, inplace=False)\n",
       "          )\n",
       "        )\n",
       "        (intermediate): BertIntermediate(\n",
       "          (dense): Linear(in_features=768, out_features=3072, bias=True)\n",
       "        )\n",
       "        (output): BertOutput(\n",
       "          (dense): Linear(in_features=3072, out_features=768, bias=True)\n",
       "          (LayerNorm): LayerNorm((768,), eps=1e-12, elementwise_affine=True)\n",
       "          (dropout): Dropout(p=0.1, inplace=False)\n",
       "        )\n",
       "      )\n",
       "      (4): BertLayer(\n",
       "        (attention): BertAttention(\n",
       "          (self): BertSelfAttention(\n",
       "            (query): Linear(in_features=768, out_features=768, bias=True)\n",
       "            (key): Linear(in_features=768, out_features=768, bias=True)\n",
       "            (value): Linear(in_features=768, out_features=768, bias=True)\n",
       "            (dropout): Dropout(p=0.1, inplace=False)\n",
       "          )\n",
       "          (output): BertSelfOutput(\n",
       "            (dense): Linear(in_features=768, out_features=768, bias=True)\n",
       "            (LayerNorm): LayerNorm((768,), eps=1e-12, elementwise_affine=True)\n",
       "            (dropout): Dropout(p=0.1, inplace=False)\n",
       "          )\n",
       "        )\n",
       "        (intermediate): BertIntermediate(\n",
       "          (dense): Linear(in_features=768, out_features=3072, bias=True)\n",
       "        )\n",
       "        (output): BertOutput(\n",
       "          (dense): Linear(in_features=3072, out_features=768, bias=True)\n",
       "          (LayerNorm): LayerNorm((768,), eps=1e-12, elementwise_affine=True)\n",
       "          (dropout): Dropout(p=0.1, inplace=False)\n",
       "        )\n",
       "      )\n",
       "      (5): BertLayer(\n",
       "        (attention): BertAttention(\n",
       "          (self): BertSelfAttention(\n",
       "            (query): Linear(in_features=768, out_features=768, bias=True)\n",
       "            (key): Linear(in_features=768, out_features=768, bias=True)\n",
       "            (value): Linear(in_features=768, out_features=768, bias=True)\n",
       "            (dropout): Dropout(p=0.1, inplace=False)\n",
       "          )\n",
       "          (output): BertSelfOutput(\n",
       "            (dense): Linear(in_features=768, out_features=768, bias=True)\n",
       "            (LayerNorm): LayerNorm((768,), eps=1e-12, elementwise_affine=True)\n",
       "            (dropout): Dropout(p=0.1, inplace=False)\n",
       "          )\n",
       "        )\n",
       "        (intermediate): BertIntermediate(\n",
       "          (dense): Linear(in_features=768, out_features=3072, bias=True)\n",
       "        )\n",
       "        (output): BertOutput(\n",
       "          (dense): Linear(in_features=3072, out_features=768, bias=True)\n",
       "          (LayerNorm): LayerNorm((768,), eps=1e-12, elementwise_affine=True)\n",
       "          (dropout): Dropout(p=0.1, inplace=False)\n",
       "        )\n",
       "      )\n",
       "      (6): BertLayer(\n",
       "        (attention): BertAttention(\n",
       "          (self): BertSelfAttention(\n",
       "            (query): Linear(in_features=768, out_features=768, bias=True)\n",
       "            (key): Linear(in_features=768, out_features=768, bias=True)\n",
       "            (value): Linear(in_features=768, out_features=768, bias=True)\n",
       "            (dropout): Dropout(p=0.1, inplace=False)\n",
       "          )\n",
       "          (output): BertSelfOutput(\n",
       "            (dense): Linear(in_features=768, out_features=768, bias=True)\n",
       "            (LayerNorm): LayerNorm((768,), eps=1e-12, elementwise_affine=True)\n",
       "            (dropout): Dropout(p=0.1, inplace=False)\n",
       "          )\n",
       "        )\n",
       "        (intermediate): BertIntermediate(\n",
       "          (dense): Linear(in_features=768, out_features=3072, bias=True)\n",
       "        )\n",
       "        (output): BertOutput(\n",
       "          (dense): Linear(in_features=3072, out_features=768, bias=True)\n",
       "          (LayerNorm): LayerNorm((768,), eps=1e-12, elementwise_affine=True)\n",
       "          (dropout): Dropout(p=0.1, inplace=False)\n",
       "        )\n",
       "      )\n",
       "      (7): BertLayer(\n",
       "        (attention): BertAttention(\n",
       "          (self): BertSelfAttention(\n",
       "            (query): Linear(in_features=768, out_features=768, bias=True)\n",
       "            (key): Linear(in_features=768, out_features=768, bias=True)\n",
       "            (value): Linear(in_features=768, out_features=768, bias=True)\n",
       "            (dropout): Dropout(p=0.1, inplace=False)\n",
       "          )\n",
       "          (output): BertSelfOutput(\n",
       "            (dense): Linear(in_features=768, out_features=768, bias=True)\n",
       "            (LayerNorm): LayerNorm((768,), eps=1e-12, elementwise_affine=True)\n",
       "            (dropout): Dropout(p=0.1, inplace=False)\n",
       "          )\n",
       "        )\n",
       "        (intermediate): BertIntermediate(\n",
       "          (dense): Linear(in_features=768, out_features=3072, bias=True)\n",
       "        )\n",
       "        (output): BertOutput(\n",
       "          (dense): Linear(in_features=3072, out_features=768, bias=True)\n",
       "          (LayerNorm): LayerNorm((768,), eps=1e-12, elementwise_affine=True)\n",
       "          (dropout): Dropout(p=0.1, inplace=False)\n",
       "        )\n",
       "      )\n",
       "      (8): BertLayer(\n",
       "        (attention): BertAttention(\n",
       "          (self): BertSelfAttention(\n",
       "            (query): Linear(in_features=768, out_features=768, bias=True)\n",
       "            (key): Linear(in_features=768, out_features=768, bias=True)\n",
       "            (value): Linear(in_features=768, out_features=768, bias=True)\n",
       "            (dropout): Dropout(p=0.1, inplace=False)\n",
       "          )\n",
       "          (output): BertSelfOutput(\n",
       "            (dense): Linear(in_features=768, out_features=768, bias=True)\n",
       "            (LayerNorm): LayerNorm((768,), eps=1e-12, elementwise_affine=True)\n",
       "            (dropout): Dropout(p=0.1, inplace=False)\n",
       "          )\n",
       "        )\n",
       "        (intermediate): BertIntermediate(\n",
       "          (dense): Linear(in_features=768, out_features=3072, bias=True)\n",
       "        )\n",
       "        (output): BertOutput(\n",
       "          (dense): Linear(in_features=3072, out_features=768, bias=True)\n",
       "          (LayerNorm): LayerNorm((768,), eps=1e-12, elementwise_affine=True)\n",
       "          (dropout): Dropout(p=0.1, inplace=False)\n",
       "        )\n",
       "      )\n",
       "      (9): BertLayer(\n",
       "        (attention): BertAttention(\n",
       "          (self): BertSelfAttention(\n",
       "            (query): Linear(in_features=768, out_features=768, bias=True)\n",
       "            (key): Linear(in_features=768, out_features=768, bias=True)\n",
       "            (value): Linear(in_features=768, out_features=768, bias=True)\n",
       "            (dropout): Dropout(p=0.1, inplace=False)\n",
       "          )\n",
       "          (output): BertSelfOutput(\n",
       "            (dense): Linear(in_features=768, out_features=768, bias=True)\n",
       "            (LayerNorm): LayerNorm((768,), eps=1e-12, elementwise_affine=True)\n",
       "            (dropout): Dropout(p=0.1, inplace=False)\n",
       "          )\n",
       "        )\n",
       "        (intermediate): BertIntermediate(\n",
       "          (dense): Linear(in_features=768, out_features=3072, bias=True)\n",
       "        )\n",
       "        (output): BertOutput(\n",
       "          (dense): Linear(in_features=3072, out_features=768, bias=True)\n",
       "          (LayerNorm): LayerNorm((768,), eps=1e-12, elementwise_affine=True)\n",
       "          (dropout): Dropout(p=0.1, inplace=False)\n",
       "        )\n",
       "      )\n",
       "      (10): BertLayer(\n",
       "        (attention): BertAttention(\n",
       "          (self): BertSelfAttention(\n",
       "            (query): Linear(in_features=768, out_features=768, bias=True)\n",
       "            (key): Linear(in_features=768, out_features=768, bias=True)\n",
       "            (value): Linear(in_features=768, out_features=768, bias=True)\n",
       "            (dropout): Dropout(p=0.1, inplace=False)\n",
       "          )\n",
       "          (output): BertSelfOutput(\n",
       "            (dense): Linear(in_features=768, out_features=768, bias=True)\n",
       "            (LayerNorm): LayerNorm((768,), eps=1e-12, elementwise_affine=True)\n",
       "            (dropout): Dropout(p=0.1, inplace=False)\n",
       "          )\n",
       "        )\n",
       "        (intermediate): BertIntermediate(\n",
       "          (dense): Linear(in_features=768, out_features=3072, bias=True)\n",
       "        )\n",
       "        (output): BertOutput(\n",
       "          (dense): Linear(in_features=3072, out_features=768, bias=True)\n",
       "          (LayerNorm): LayerNorm((768,), eps=1e-12, elementwise_affine=True)\n",
       "          (dropout): Dropout(p=0.1, inplace=False)\n",
       "        )\n",
       "      )\n",
       "      (11): BertLayer(\n",
       "        (attention): BertAttention(\n",
       "          (self): BertSelfAttention(\n",
       "            (query): Linear(in_features=768, out_features=768, bias=True)\n",
       "            (key): Linear(in_features=768, out_features=768, bias=True)\n",
       "            (value): Linear(in_features=768, out_features=768, bias=True)\n",
       "            (dropout): Dropout(p=0.1, inplace=False)\n",
       "          )\n",
       "          (output): BertSelfOutput(\n",
       "            (dense): Linear(in_features=768, out_features=768, bias=True)\n",
       "            (LayerNorm): LayerNorm((768,), eps=1e-12, elementwise_affine=True)\n",
       "            (dropout): Dropout(p=0.1, inplace=False)\n",
       "          )\n",
       "        )\n",
       "        (intermediate): BertIntermediate(\n",
       "          (dense): Linear(in_features=768, out_features=3072, bias=True)\n",
       "        )\n",
       "        (output): BertOutput(\n",
       "          (dense): Linear(in_features=3072, out_features=768, bias=True)\n",
       "          (LayerNorm): LayerNorm((768,), eps=1e-12, elementwise_affine=True)\n",
       "          (dropout): Dropout(p=0.1, inplace=False)\n",
       "        )\n",
       "      )\n",
       "    )\n",
       "  )\n",
       "  (pooler): BertPooler(\n",
       "    (dense): Linear(in_features=768, out_features=768, bias=True)\n",
       "    (activation): Tanh()\n",
       "  )\n",
       ")"
      ]
     },
     "execution_count": 5,
     "metadata": {},
     "output_type": "execute_result"
    }
   ],
   "source": [
    "bert_model"
   ]
  },
  {
   "cell_type": "markdown",
   "metadata": {},
   "source": [
    "### 2.2 Build Customized vocabulary"
   ]
  },
  {
   "cell_type": "code",
   "execution_count": null,
   "metadata": {},
   "outputs": [],
   "source": []
  },
  {
   "cell_type": "code",
   "execution_count": null,
   "metadata": {},
   "outputs": [],
   "source": []
  },
  {
   "cell_type": "code",
   "execution_count": null,
   "metadata": {},
   "outputs": [],
   "source": []
  },
  {
   "cell_type": "code",
   "execution_count": null,
   "metadata": {},
   "outputs": [],
   "source": []
  }
 ],
 "metadata": {
  "kernelspec": {
   "display_name": "Python 3",
   "language": "python",
   "name": "python3"
  },
  "language_info": {
   "codemirror_mode": {
    "name": "ipython",
    "version": 3
   },
   "file_extension": ".py",
   "mimetype": "text/x-python",
   "name": "python",
   "nbconvert_exporter": "python",
   "pygments_lexer": "ipython3",
   "version": "3.7.7"
  },
  "pycharm": {
   "stem_cell": {
    "cell_type": "raw",
    "metadata": {
     "collapsed": false
    },
    "source": []
   }
  }
 },
 "nbformat": 4,
 "nbformat_minor": 1
}
