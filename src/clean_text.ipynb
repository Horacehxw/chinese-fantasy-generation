{
 "cells": [
  {
   "cell_type": "code",
   "execution_count": 1,
   "metadata": {
    "pycharm": {
     "is_executing": false
    }
   },
   "outputs": [],
   "source": [
    "from pathlib import Path\n",
    "data_path = Path(\"../data\").resolve()\n",
    "book_list = {\"唐家三少\":[\"斗罗大陆\", \"斗罗大陆II绝世唐门\", \"酒神\"],\n",
    "             \"天蚕土豆\":[\"斗破苍穹\", \"武动乾坤\", \"大主宰\", \"魔兽剑圣异界纵横\"],\n",
    "             \"猫腻\":[\"庆余年\", \"间客\", \"将夜\", \"朱雀记\", \"择天记\"]\n",
    "             }"
   ]
  },
  {
   "cell_type": "markdown",
   "metadata": {
    "pycharm": {
     "is_executing": false,
     "name": "#%% md\n"
    }
   },
   "source": [
    "## 数据清洗\n",
    "1. 全角 --> 半角； 英文统一小写\n",
    "2. 去除 html tag, 章节名，括号内容，url 链接 （及变体）\n",
    "3. 重复字、符合并"
   ]
  },
  {
   "cell_type": "code",
   "execution_count": 2,
   "metadata": {
    "pycharm": {
     "is_executing": false,
     "name": "#%%\n"
    }
   },
   "outputs": [
    {
     "data": {
      "text/plain": [
       "'《斗罗大陆》唐家三少\\n\\n严正声明：本书为丫丫小说网(www.shuyaya.cc)的用户上传至其在本站的存储空间，本站只提供TXT全集电子书存储服务以及免费下载服务，以下作品内容之版权与本站无任何关系。\\n在线阅读：https://www.shuyaya.cc/read/5/\\n--------------------------------------------------\\n\\n光之子外篇暗夜精灵（上）\\n\\n    夜云在站在古树下静静的站着，这株古树在精灵森林中已经有数千年的历史了，树高近百米，枝叶茂盛，给这片精灵森林中的生物们带来了勃勃生机，它，也是暗夜精灵族领地中最高的一株大树。夜云轻轻拍打着自己背后那近乎透明的黑色翅膀，眼中流露出一丝淡淡的担忧。他是暗夜精灵族中的一员，暗夜精灵王之子，拥有着近乎完美的容貌和冷俊的气质。精灵族的普遍身高本应是比人类矮一些的，但他却是个例外，竟然有一米八的海拔，除了尖尖的耳朵和背后那对翅膀以外，几乎和人类没有什么不同。由于暗夜精灵一般都喜欢晚上才外出活动，所以夜云的皮肤显得异常白皙，如同女人般的白皙。\\n\\n    “阿云，我就知道你又跑到这里来了。”一个温柔的声音在夜云耳边响起，即使不用回首，他也知道来人是谁。轻叹道：“雨，我想一个人静一静，好么？”夜雨是他的族人，从小一起长大的玩伴，也是他最好的朋友。\\n\\n    黑色的身影一闪，在夜云面前多了一名绝美的精灵，她眼中满是关切和温柔之色，长长的黑发飘散在背后，手里握着一张黑色的短弓，精致的五官搭配的如此和谐，如白玉般的肌肤引人暇思。身材娇小的她拍动着翅膀漂浮在半空中使自己可以和夜云对视，轻叹道：“阿云，你又何必多做担心呢？我们暗夜精灵族早已经每况愈下，这是早晚要发生的事。不过，我真的不想离开咱们的家园。”说着，她缓缓低下了头，美眸中流露出一丝哀伤。\\n\\n    夜云英俊的面庞突然激动起来，他紧紧握住自己的双拳，恨恨的说道：“不，我一定不会让他们得逞的，死也不会。这里是我们的家园，没有谁能赶我们走。”由于握的过紧，他手上的骨骼咯咯做响，在寂静的夜晚中听起来带着一丝诡异。\\n\\n    夜云和夜雨都属于精灵族中的分支——暗夜精灵族。在这片天舞大陆上，精灵族经过数千年的发展壮大，已经占据了超过整片大陆四分之一的地域，在这大片辽阔而肥沃的土地上，成千上万的精灵种植了各种树木和植被，经过长时间的成长，形'"
      ]
     },
     "execution_count": 2,
     "metadata": {},
     "output_type": "execute_result"
    }
   ],
   "source": [
    "book = data_path/\"唐家三少\"/\"斗罗大陆.txt\"\n",
    "text = book.read_text()[:1000]\n",
    "text"
   ]
  },
  {
   "cell_type": "code",
   "execution_count": 3,
   "metadata": {
    "pycharm": {
     "is_executing": false,
     "name": "#%%\n"
    }
   },
   "outputs": [],
   "source": [
    "from prepare_data import clean_text, split_sentence\n",
    "from hanlp.utils.lang.zh.char_table import CharTable"
   ]
  },
  {
   "cell_type": "code",
   "execution_count": 4,
   "metadata": {
    "pycharm": {
     "is_executing": false,
     "name": "#%%\n"
    }
   },
   "outputs": [],
   "source": [
    "new_text = clean_text(text)"
   ]
  },
  {
   "cell_type": "code",
   "execution_count": 63,
   "metadata": {},
   "outputs": [
    {
     "data": {
      "text/plain": [
       "'《斗罗大陆》唐家三少\\n\\n严正声明:本书为丫丫小说网的用户上传至其在本站的存储空间,本站只提供txt全集电子书存储服务以及免费下载服务,以下作品内容之版权与本站无任何关系。\\n在线阅读:\\n-\\n\\n光之子外篇暗夜精灵\\n\\n夜云在站在古树下静静的站着,这株古树在精灵森林中已经有数千年的历史了,树高近百米,枝叶茂盛,给这片精灵森林中的生物们带来了勃勃生机,它,也是暗夜精灵族领地中最高的一株大树。夜云轻轻拍打着自己背后那近乎透明的黑色翅膀,眼中流露出一丝淡淡的担忧。他是暗夜精灵族中的一员,暗夜精灵王之子,拥有着近乎完美的容貌和冷俊的气质。精灵族的普遍身高本应是比人类矮一些的,但他却是个例外,竟然有一米八的海拔,除了尖尖的耳朵和背后那对翅膀以外,几乎和人类没有什么不同。由于暗夜精灵一般都喜欢晚上才外出活动,所以夜云的皮肤显得异常白皙,如同女人般的白皙。\\n\\n\"阿云,我就知道你又跑到这里来了。\"一个温柔的声音在夜云耳边响起,即使不用回首,他也知道来人是谁。轻叹道:\"雨,我想一个人静一静,好么?\"夜雨是他的族人,从小一起长大的玩伴,也是他最好的朋友。\\n\\n黑色的身影一闪,在夜云面前多了一名绝美的精灵,她眼中满是关切和温柔之色,长长的黑发飘散在背后,手里握着一张黑色的短弓,精致的五官搭配的如此和谐,如白玉般的肌肤引人暇思。身材娇小的她拍动着翅膀漂浮在半空中使自己可以和夜云对视,轻叹道:\"阿云,你又何必多做担心呢?我们暗夜精灵族早已经每况愈下,这是早晚要发生的事。不过,我真的不想离开咱们的家园。\"说着,她缓缓低下了头,美眸中流露出一丝哀伤。\\n\\n夜云英俊的面庞突然激动起来,他紧紧握住自己的双拳,恨恨的说道:\"不,我一定不会让他们得逞的,死也不会。这里是我们的家园,没有谁能赶我们走。\"由于握的过紧,他手上的骨胳咯咯做响,在寂静的夜晚中听起来带着一丝诡异。\\n\\n夜云和夜雨都属于精灵族中的分支——暗夜精灵族。在这片天舞大陆上,精灵族经过数千年的发展壮大,已经占据了超过整片大陆四分之一的地域,在这大片辽阔而肥沃的土地上,成千上万的精灵种植了各种树木和植被,经过长时间的成长,形'"
      ]
     },
     "execution_count": 63,
     "metadata": {},
     "output_type": "execute_result"
    }
   ],
   "source": [
    "new_text"
   ]
  },
  {
   "cell_type": "markdown",
   "metadata": {
    "pycharm": {
     "name": "#%% md\n"
    }
   },
   "source": [
    "## 数据分析 \n",
    "\n",
    "1. 句子段落长度分析\n",
    "2. 标准化存储分词数据集\n",
    "3. 词频分析\n"
   ]
  },
  {
   "cell_type": "code",
   "execution_count": 5,
   "metadata": {
    "pycharm": {
     "is_executing": false,
     "name": "#%%\n"
    }
   },
   "outputs": [],
   "source": [
    "import json\n",
    "def load_book_res():\n",
    "    book_results = {}\n",
    "    for author in book_list:\n",
    "        author_dir = data_path/author\n",
    "        for book in book_list[author]:\n",
    "            book_res_file = author_dir/\"{}.json\".format(book)\n",
    "            with book_res_file.open(mode=\"r\") as f:\n",
    "                book_res = json.load(f)\n",
    "            book_results[book] = book_res\n",
    "    return book_results"
   ]
  },
  {
   "cell_type": "code",
   "execution_count": 6,
   "metadata": {
    "pycharm": {
     "is_executing": false,
     "name": "#%%\n"
    }
   },
   "outputs": [],
   "source": [
    "book_results = load_book_res()"
   ]
  },
  {
   "cell_type": "code",
   "execution_count": 7,
   "metadata": {
    "pycharm": {
     "is_executing": false,
     "name": "#%%\n"
    }
   },
   "outputs": [
    {
     "data": {
      "text/plain": [
       "['这', '化妆术', '也', '太', '惊人', '了', '。']"
      ]
     },
     "execution_count": 7,
     "metadata": {},
     "output_type": "execute_result"
    }
   ],
   "source": [
    "import random\n",
    "random.choice(book_results[\"酒神\"][\"tokens\"])"
   ]
  },
  {
   "cell_type": "markdown",
   "metadata": {
    "pycharm": {
     "is_executing": false,
     "name": "#%% md\n"
    }
   },
   "source": [
    "### 按照分词计算句子长度"
   ]
  },
  {
   "cell_type": "code",
   "execution_count": 8,
   "metadata": {
    "pycharm": {
     "is_executing": false,
     "name": "#%%\n"
    }
   },
   "outputs": [],
   "source": [
    "book_sentences = []\n",
    "for book, res in book_results.items():\n",
    "    book_sentences.extend(res[\"tokens\"])\n",
    "\n",
    "sentences_len = [len(x) for x in book_sentences]\n",
    "sorted_sentences = sorted(zip(book_sentences, sentences_len), key=lambda x: x[1], reverse=True)"
   ]
  },
  {
   "cell_type": "code",
   "execution_count": 9,
   "metadata": {
    "pycharm": {
     "is_executing": false,
     "name": "#%%\n"
    }
   },
   "outputs": [
    {
     "name": "stdout",
     "output_type": "stream",
     "text": [
      "Total sentences number: 1317717\n"
     ]
    }
   ],
   "source": [
    "print(\"Total sentences number: {}\".format(len(sorted_sentences)))"
   ]
  },
  {
   "cell_type": "code",
   "execution_count": 10,
   "metadata": {
    "pycharm": {
     "is_executing": false,
     "name": "#%%\n"
    }
   },
   "outputs": [
    {
     "data": {
      "text/plain": [
       "<matplotlib.axes._subplots.AxesSubplot at 0x7f64bd334a90>"
      ]
     },
     "execution_count": 10,
     "metadata": {},
     "output_type": "execute_result"
    },
    {
     "data": {
      "image/png": "[encoded data removed]",
      "text/plain": [
       "<Figure size 432x288 with 1 Axes>"
      ]
     },
     "metadata": {
      "needs_background": "light"
     },
     "output_type": "display_data"
    }
   ],
   "source": [
    "import seaborn as sns\n",
    "import numpy as np\n",
    "sns.distplot(np.clip(sentences_len, 0, 150), kde=True, )"
   ]
  },
  {
   "cell_type": "code",
   "execution_count": 11,
   "metadata": {
    "pycharm": {
     "is_executing": false,
     "name": "#%%\n"
    }
   },
   "outputs": [
    {
     "data": {
      "text/plain": [
       "<matplotlib.axes._subplots.AxesSubplot at 0x7f64bca26290>"
      ]
     },
     "execution_count": 11,
     "metadata": {},
     "output_type": "execute_result"
    },
    {
     "data": {
      "image/png": "[encoded data removed]",
      "text/plain": [
       "<Figure size 432x288 with 1 Axes>"
      ]
     },
     "metadata": {
      "needs_background": "light"
     },
     "output_type": "display_data"
    }
   ],
   "source": [
    "sns.distplot(sentences_len, rug=True, )"
   ]
  },
  {
   "cell_type": "code",
   "execution_count": 12,
   "metadata": {
    "pycharm": {
     "is_executing": false,
     "name": "#%%\n"
    }
   },
   "outputs": [
    {
     "data": {
      "text/plain": [
       "(['闻言',\n",
       "  ',',\n",
       "  '背负',\n",
       "  '着',\n",
       "  '血红',\n",
       "  '重剑',\n",
       "  '的',\n",
       "  '男子',\n",
       "  '缓缓',\n",
       "  '转身',\n",
       "  ',',\n",
       "  '露出',\n",
       "  '一',\n",
       "  '张',\n",
       "  '充满',\n",
       "  '着',\n",
       "  '冷厉',\n",
       "  '之色',\n",
       "  '的',\n",
       "  '脸庞',\n",
       "  ',',\n",
       "  '这',\n",
       "  '张',\n",
       "  '脸略',\n",
       "  '有些',\n",
       "  '熟悉',\n",
       "  ',',\n",
       "  '而',\n",
       "  '其',\n",
       "  ',',\n",
       "  '也',\n",
       "  '正是',\n",
       "  '当初',\n",
       "  '磐门',\n",
       "  '的',\n",
       "  '创始人',\n",
       "  '之一',\n",
       "  ',',\n",
       "  '萧炎',\n",
       "  '好友',\n",
       "  ',',\n",
       "  '吴昊',\n",
       "  '如今',\n",
       "  '的',\n",
       "  '吴昊',\n",
       "  ',',\n",
       "  '比',\n",
       "  '起',\n",
       "  '两',\n",
       "  '年',\n",
       "  '前',\n",
       "  '无疑',\n",
       "  '是',\n",
       "  '显得',\n",
       "  '成熟',\n",
       "  '了',\n",
       "  '许多',\n",
       "  ',',\n",
       "  '而且',\n",
       "  '那',\n",
       "  '股',\n",
       "  '令',\n",
       "  '人',\n",
       "  '心寒',\n",
       "  '的',\n",
       "  '血腥',\n",
       "  '之',\n",
       "  '气',\n",
       "  '倒',\n",
       "  '是',\n",
       "  '淡薄',\n",
       "  '了',\n",
       "  '许多',\n",
       "  ',',\n",
       "  '当然',\n",
       "  ',',\n",
       "  '这',\n",
       "  '并非',\n",
       "  '是',\n",
       "  '说',\n",
       "  '减弱',\n",
       "  '的',\n",
       "  '意思',\n",
       "  ',',\n",
       "  '而是',\n",
       "  '如今',\n",
       "  '的',\n",
       "  '他',\n",
       "  ',',\n",
       "  '已经',\n",
       "  '逐渐',\n",
       "  '的',\n",
       "  '将',\n",
       "  '那',\n",
       "  '股',\n",
       "  '血腥',\n",
       "  '之',\n",
       "  '气',\n",
       "  '内',\n",
       "  '敛入体',\n",
       "  ',',\n",
       "  '若',\n",
       "  '说',\n",
       "  '以前',\n",
       "  '的',\n",
       "  '他',\n",
       "  '是',\n",
       "  '一',\n",
       "  '柄',\n",
       "  '锋芒',\n",
       "  '毕露',\n",
       "  '的',\n",
       "  '染血',\n",
       "  '之',\n",
       "  '剑',\n",
       "  ',',\n",
       "  '那么',\n",
       "  '现在',\n",
       "  '的',\n",
       "  '他',\n",
       "  ',',\n",
       "  '则',\n",
       "  '是',\n",
       "  '一',\n",
       "  '柄',\n",
       "  '被',\n",
       "  '剑鞘',\n",
       "  '遮掩',\n",
       "  '了',\n",
       "  '锋芒',\n",
       "  '的',\n",
       "  '无锋钝剑',\n",
       "  ',',\n",
       "  '然而',\n",
       "  '一旦',\n",
       "  '那',\n",
       "  '剑鞘',\n",
       "  '被',\n",
       "  '撕裂',\n",
       "  '开',\n",
       "  '来',\n",
       "  ',',\n",
       "  '那么',\n",
       "  '那',\n",
       "  '股',\n",
       "  '内敛',\n",
       "  '的',\n",
       "  '锋利',\n",
       "  '血气',\n",
       "  ',',\n",
       "  '则',\n",
       "  '是',\n",
       "  '会',\n",
       "  '彻彻',\n",
       "  '底底',\n",
       "  '的',\n",
       "  '爆发',\n",
       "  '开',\n",
       "  '来',\n",
       "  '。'],\n",
       " 160)"
      ]
     },
     "execution_count": 12,
     "metadata": {},
     "output_type": "execute_result"
    }
   ],
   "source": [
    "random.choice(sorted_sentences[:100])"
   ]
  },
  {
   "cell_type": "markdown",
   "metadata": {
    "pycharm": {
     "is_executing": false,
     "name": "#%% md\n"
    }
   },
   "source": [
    "### 按照字符串长度计算句子长度"
   ]
  },
  {
   "cell_type": "code",
   "execution_count": 13,
   "metadata": {
    "pycharm": {
     "is_executing": false,
     "name": "#%%\n"
    }
   },
   "outputs": [],
   "source": [
    "book_sentences_char = []\n",
    "for book, res in book_results.items():\n",
    "    book_sentences_char.extend(res[\"sentences\"])\n",
    "    \n",
    "sentences_char_len = [len(x) for x in book_sentences_char]\n",
    "sorted_sentences_char = sorted(zip(book_sentences_char, sentences_char_len), key=lambda x: x[1], reverse=True)"
   ]
  },
  {
   "cell_type": "code",
   "execution_count": 14,
   "metadata": {
    "pycharm": {
     "is_executing": false,
     "name": "#%%\n"
    }
   },
   "outputs": [
    {
     "data": {
      "text/plain": [
       "<matplotlib.axes._subplots.AxesSubplot at 0x7f648f5690d0>"
      ]
     },
     "execution_count": 14,
     "metadata": {},
     "output_type": "execute_result"
    },
    {
     "data": {
      "image/png": "[encoded data removed]",
      "text/plain": [
       "<Figure size 432x288 with 1 Axes>"
      ]
     },
     "metadata": {
      "needs_background": "light"
     },
     "output_type": "display_data"
    }
   ],
   "source": [
    "sns.distplot(sentences_char_len, rug=True)"
   ]
  },
  {
   "cell_type": "code",
   "execution_count": 15,
   "metadata": {
    "pycharm": {
     "is_executing": false,
     "name": "#%%\n"
    }
   },
   "outputs": [
    {
     "data": {
      "text/plain": [
       "<matplotlib.axes._subplots.AxesSubplot at 0x7f6488e3c810>"
      ]
     },
     "execution_count": 15,
     "metadata": {},
     "output_type": "execute_result"
    },
    {
     "data": {
      "image/png": "[encoded data removed]",
      "text/plain": [
       "<Figure size 432x288 with 1 Axes>"
      ]
     },
     "metadata": {
      "needs_background": "light"
     },
     "output_type": "display_data"
    }
   ],
   "source": [
    "sns.distplot(np.clip(sentences_char_len, 0, 300), kde=True)"
   ]
  },
  {
   "cell_type": "code",
   "execution_count": 16,
   "metadata": {
    "pycharm": {
     "is_executing": false,
     "name": "#%%\n"
    }
   },
   "outputs": [
    {
     "data": {
      "text/plain": [
       "('周围的双方强者,日光惊愕的望着那直接是重伤栽落的蜈崖,一时间心中皆是涌上些许惊惧,望向天空上那道黑袍身影时,更是多了一分隐噙的恐惧,若说先前萧炎将那名长老击杀,旁人勉强还能持之归功于其使用了秘法之上,但现在,那被打成重伤的蜈崖,可是一名货真价实的斗皇巅峰,放眼双方,除了小医仙等人外,恐怕也就只有那万蝎门的门主蝎山能够将之打败,可即便是胜,或许那蝎山也很难做到这种几乎一击便是重伤的地步。',\n",
       " 194)"
      ]
     },
     "execution_count": 16,
     "metadata": {},
     "output_type": "execute_result"
    }
   ],
   "source": [
    "random.choice(sorted_sentences_char[:1000])"
   ]
  },
  {
   "cell_type": "markdown",
   "metadata": {
    "pycharm": {
     "name": "#%% md\n"
    }
   },
   "source": [
    "### 统计 comma seperator 下的句子长度"
   ]
  },
  {
   "cell_type": "code",
   "execution_count": 17,
   "metadata": {
    "pycharm": {
     "is_executing": false,
     "name": "#%%\n"
    }
   },
   "outputs": [],
   "source": [
    "book_sentences_char_comma = []\n",
    "for book, res in book_results.items():\n",
    "    sentences = res[\"sentences\"]\n",
    "    sentences_comma = []\n",
    "    for sentence in sentences:\n",
    "        sentences_comma.extend(split_sentence(sentence, comma=True))\n",
    "    book_sentences_char_comma.extend(sentences_comma)\n",
    "    \n",
    "sentences_char_comma_len = [len(x) for x in book_sentences_char_comma]\n",
    "sorted_sentences_char_comma = sorted(zip(book_sentences_char_comma, sentences_char_comma_len), key=lambda x: x[1], reverse=True)"
   ]
  },
  {
   "cell_type": "code",
   "execution_count": 18,
   "metadata": {
    "pycharm": {
     "is_executing": false,
     "name": "#%%\n"
    }
   },
   "outputs": [
    {
     "name": "stdout",
     "output_type": "stream",
     "text": [
      "Total number of comma separated sentences = 3930290\n"
     ]
    }
   ],
   "source": [
    "print(\"Total number of comma separated sentences = {}\".format(len(sentences_char_comma_len)))"
   ]
  },
  {
   "cell_type": "code",
   "execution_count": 19,
   "metadata": {
    "pycharm": {
     "is_executing": false,
     "name": "#%%\n"
    }
   },
   "outputs": [
    {
     "data": {
      "text/plain": [
       "<matplotlib.axes._subplots.AxesSubplot at 0x7f645b9a5650>"
      ]
     },
     "execution_count": 19,
     "metadata": {},
     "output_type": "execute_result"
    },
    {
     "data": {
      "image/png": "[encoded data removed]",
      "text/plain": [
       "<Figure size 432x288 with 1 Axes>"
      ]
     },
     "metadata": {
      "needs_background": "light"
     },
     "output_type": "display_data"
    }
   ],
   "source": [
    "sns.distplot(sentences_char_comma_len, kde=True, rug=True)"
   ]
  },
  {
   "cell_type": "code",
   "execution_count": 20,
   "metadata": {
    "pycharm": {
     "is_executing": false,
     "name": "#%%\n"
    }
   },
   "outputs": [
    {
     "data": {
      "text/plain": [
       "<matplotlib.axes._subplots.AxesSubplot at 0x7f648f57c5d0>"
      ]
     },
     "execution_count": 20,
     "metadata": {},
     "output_type": "execute_result"
    },
    {
     "data": {
      "image/png": "[encoded data removed]",
      "text/plain": [
       "<Figure size 432x288 with 1 Axes>"
      ]
     },
     "metadata": {
      "needs_background": "light"
     },
     "output_type": "display_data"
    }
   ],
   "source": [
    "sns.distplot(np.clip(sentences_char_comma_len, 0, 110))"
   ]
  },
  {
   "cell_type": "code",
   "execution_count": 35,
   "metadata": {
    "pycharm": {
     "is_executing": false,
     "name": "#%%\n"
    }
   },
   "outputs": [
    {
     "data": {
      "text/plain": [
       "('眉头忽然的一皱.回过头与黑柏柯对视了一下.都+.重与惊异.默契的点了点头.强悍的神念与意念猛的透.联合在一起狠狠的撞击在隐藏在虚空之中的那抹圣阶强者的意念之上……',\n",
       " 81)"
      ]
     },
     "execution_count": 35,
     "metadata": {},
     "output_type": "execute_result"
    }
   ],
   "source": [
    "random.choice(sorted_sentences_char_comma[:1000])"
   ]
  },
  {
   "cell_type": "markdown",
   "metadata": {
    "pycharm": {
     "name": "#%% md\n"
    }
   },
   "source": [
    "### 统计对比分词与不分词情况下的句子序列长度分布"
   ]
  },
  {
   "cell_type": "code",
   "execution_count": 36,
   "metadata": {
    "pycharm": {
     "is_executing": false,
     "name": "#%%\n"
    }
   },
   "outputs": [],
   "source": [
    "import numpy as np\n",
    "def show_list_stat(lst):\n",
    "    quantile1 = np.quantile(lst, 0.01)\n",
    "    quantile10 = np.quantile(lst, 0.1)\n",
    "    quantile20 = np.quantile(lst, 0.2)\n",
    "    median = np.median(lst)\n",
    "    quantile90 = np.quantile(lst, 0.9)\n",
    "    quantile99 = np.quantile(lst, 0.99)\n",
    "    quantile999 = np.quantile(lst,0.999)\n",
    "    quantile9999 = np.quantile(lst,0.9999)\n",
    "    print(\"1% Quantile =\\t\\t {}\\n10% Quantile =\\t\\t {}\\n20% Quantile =\\t\\t {}\\n\"\n",
    "          \"Median =\\t\\t {}\\n90% Quantile =\\t\\t {}\\n99% Quantile =\\t\\t {}\\n99.9% Quantile\"\n",
    "          \" =\\t {}\\n99.99% Quantile =\\t {}\".format(\n",
    "        quantile1, quantile10, quantile20, median, quantile90, quantile99, quantile999, quantile9999))"
   ]
  },
  {
   "cell_type": "code",
   "execution_count": 37,
   "metadata": {
    "pycharm": {
     "is_executing": false,
     "name": "#%%\n"
    }
   },
   "outputs": [
    {
     "name": "stdout",
     "output_type": "stream",
     "text": [
      "1% Quantile =\t\t 1.0\n",
      "10% Quantile =\t\t 4.0\n",
      "20% Quantile =\t\t 7.0\n",
      "Median =\t\t 17.0\n",
      "90% Quantile =\t\t 46.0\n",
      "99% Quantile =\t\t 79.0\n",
      "99.9% Quantile =\t 112.0\n",
      "99.99% Quantile =\t 153.0\n"
     ]
    }
   ],
   "source": [
    "# word level\n",
    "show_list_stat(sentences_len)"
   ]
  },
  {
   "cell_type": "code",
   "execution_count": 38,
   "metadata": {
    "pycharm": {
     "is_executing": false,
     "name": "#%%\n"
    }
   },
   "outputs": [
    {
     "name": "stdout",
     "output_type": "stream",
     "text": [
      "1% Quantile =\t\t 2.0\n",
      "10% Quantile =\t\t 6.0\n",
      "20% Quantile =\t\t 11.0\n",
      "Median =\t\t 25.0\n",
      "90% Quantile =\t\t 69.0\n",
      "99% Quantile =\t\t 118.0\n",
      "99.9% Quantile =\t 170.0\n",
      "99.99% Quantile =\t 257.0\n"
     ]
    }
   ],
   "source": [
    "# char level\n",
    "show_list_stat(sentences_char_len)"
   ]
  },
  {
   "cell_type": "code",
   "execution_count": 39,
   "metadata": {
    "pycharm": {
     "is_executing": false,
     "name": "#%%\n"
    }
   },
   "outputs": [
    {
     "name": "stdout",
     "output_type": "stream",
     "text": [
      "1% Quantile =\t\t 2.0\n",
      "10% Quantile =\t\t 5.0\n",
      "20% Quantile =\t\t 6.0\n",
      "Median =\t\t 10.0\n",
      "90% Quantile =\t\t 18.0\n",
      "99% Quantile =\t\t 28.0\n",
      "99.9% Quantile =\t 47.0\n",
      "99.99% Quantile =\t 105.0\n"
     ]
    }
   ],
   "source": [
    "# char level with comma separator\n",
    "show_list_stat(sentences_char_comma_len)"
   ]
  },
  {
   "cell_type": "markdown",
   "metadata": {},
   "source": [
    "Try to remove \\. inside sentences, but cannot apply this to text cleaning. Because there're legal words like U.S., V.S., etc."
   ]
  },
  {
   "cell_type": "code",
   "execution_count": 40,
   "metadata": {
    "pycharm": {
     "is_executing": false,
     "name": "#%%\n"
    }
   },
   "outputs": [
    {
     "data": {
      "text/plain": [
       "'我喜欢你是我度假的集以。安德森发asdfasdf'"
      ]
     },
     "execution_count": 40,
     "metadata": {},
     "output_type": "execute_result"
    }
   ],
   "source": [
    "# remove the \\. inside sentences\n",
    "# cannot do this trivially, there's legal words like U.S., V.S., etc.\n",
    "test_text = \"我喜欢你.是我度假的集以。安德森发.asdfasdf\"\n",
    "import re\n",
    "re.sub(r\"([^\\.])(\\.)([^\\.])\", r\"\\1\\3\", test_text)"
   ]
  },
  {
   "cell_type": "code",
   "execution_count": 41,
   "metadata": {
    "pycharm": {
     "is_executing": false,
     "name": "#%%\n"
    }
   },
   "outputs": [
    {
     "data": {
      "text/plain": [
       "['轻轻杞玩着手',\n",
       " '中卷轴,',\n",
       " '萧炎!',\n",
       " '微微皱。',\n",
       " '着眉,',\n",
       " '这种具有着改变人体质的奇丹.炼制。',\n",
       " '起来！',\n",
       " '困难度极大,',\n",
       " '失败率也极高,',\n",
       " '而且最可怕的是,',\n",
       " '这种阶别的丹药,',\n",
       " '在出炉之时,',\n",
       " '有着几率会引起天地能量波动,',\n",
       " '最后引发出雷劫,',\n",
       " '这种雷劫,',\n",
       " '炼药界中又称之为丹劫,',\n",
       " '威力极大,',\n",
       " '一个不慎,',\n",
       " '便是丹毁人亡的下场,',\n",
       " '因此,',\n",
       " '即便是一些有能力炼制七品丹药的炼药师,',\n",
       " '也会尽量避免少炼制这种会引发丹劫的丹药,',\n",
       " '而这也能猜测出,',\n",
       " '为什么这么多年,',\n",
       " '蛇人族从来没有弄出一枚天魂融血丹了。']"
      ]
     },
     "execution_count": 41,
     "metadata": {},
     "output_type": "execute_result"
    }
   ],
   "source": [
    "# test split sentence with ,\n",
    "long_sentence = \"轻轻杞玩着手\\n中卷轴,萧炎!微微皱。着眉,这种具有着改变人体质的奇丹.炼制。起来！困难度极大,失败率也极高,而且最可怕的是,这种阶别的丹药,在出炉之时,有着几率会引起天地能量波动,最后引发出雷劫,这种雷劫,炼药界中又称之为丹劫,威力极大,一个不慎,便是丹毁人亡的下场,因此,即便是一些有能力炼制七品丹药的炼药师,也会尽量避免少炼制这种会引发丹劫的丹药,而这也能猜测出,为什么这么多年,蛇人族从来没有弄出一枚天魂融血丹了。\"\n",
    "list(split_sentence(long_sentence, comma=True))"
   ]
  },
  {
   "cell_type": "markdown",
   "metadata": {
    "pycharm": {
     "name": "#%% md\n"
    }
   },
   "source": [
    "### 标准化储存分词后数据集"
   ]
  },
  {
   "cell_type": "code",
   "execution_count": 42,
   "metadata": {
    "pycharm": {
     "is_executing": false,
     "name": "#%%\n"
    }
   },
   "outputs": [],
   "source": [
    "book_cws_text = {}\n",
    "for author in book_list:\n",
    "    author_dir = data_path / author\n",
    "    for book in book_list[author]:\n",
    "        book_res_file = author_dir/\"{}.json\".format(book)\n",
    "        with book_res_file.open(mode=\"r\") as f:\n",
    "            book_res = json.load(f)\n",
    "        tokens = book_res[\"tokens\"]\n",
    "        text = \"\\n\".join([\" \".join(sentence) for sentence in tokens])\n",
    "        book_cws_file = author_dir/\"{}.cws.txt\".format(book)\n",
    "        book_cws_file.write_text(text, encoding=\"utf-8\")\n",
    "        book_cws_text[book] = text\n"
   ]
  },
  {
   "cell_type": "code",
   "execution_count": 43,
   "metadata": {
    "pycharm": {
     "is_executing": false,
     "name": "#%%\n"
    }
   },
   "outputs": [
    {
     "data": {
      "text/plain": [
       "'世界 是 相对 的 。\\n中土 大陆 隔 着 海洋 与 大西洲 遥遥 相对 。\\n东方 地势 较 高 , 那里 的 天空 似乎 也 高 了 起来 , 云雾 从 海 上 陆地 上 升腾 而 起 , 不 停 向着 那处 飘 去 , 最终 汇聚 在 一起 , 终年 不 散 。\\n这里 便是 云墓 世间 所有 云 的 坟墓 。\\n云墓 最 深处 隐隐 有 一 座 孤峰 , 峰顶 直入 虚空 , 不知 通向 何处 。\\n传说 中 , 世界 由 五 片 大陆 组成 , 每个 大陆 都 有 不同 的 风景 , 只有 那些 进入 神圣 领域 的 强大 生命 , 才 能 看到 所有 的 风景 。\\n对于 普通人 来说 , 传说 只是 传说 , 他们 不 知道 其余 的 大陆 在 哪里 , 不 知道 怎么 去 , 不 知道 云墓 里 那 座 孤峰 便是 通往 其它 大陆 的 通道 。\\n自然 , 也 没有 谁 见 过 云端 之上 的 风景 。\\n在 这里 , 平静 的 云层 像 白色 的 丝绵 向 着 四面八方 蔓延 , 似乎 没有 尽头 , 上方 的 虚空 镜面 后 是 无尽 的 黑色 深渊 , 里面 有 无数 颗 星辰 。\\n忽然 间 , 有 两 颗 星星 亮 了 起来 , 越来越 明亮 , 原来 是 在 向着 镜面 高速 靠近 。'"
      ]
     },
     "execution_count": 43,
     "metadata": {},
     "output_type": "execute_result"
    }
   ],
   "source": [
    "\"\\n\".join([\" \".join(sentence) for sentence in tokens[:10]])"
   ]
  },
  {
   "cell_type": "code",
   "execution_count": 44,
   "metadata": {
    "pycharm": {
     "is_executing": false,
     "name": "#%%\n"
    }
   },
   "outputs": [
    {
     "data": {
      "text/plain": [
       "['轻轻杞玩着手中卷轴',\n",
       " '萧炎微微皱着眉',\n",
       " '这种具有着改变人体质的奇丹',\n",
       " '炼制起来困难度极大',\n",
       " '失败率也极高',\n",
       " '而且最可怕的是',\n",
       " '这种阶别的丹药',\n",
       " '在出炉之时',\n",
       " '有着几率会引起天地能量波动',\n",
       " '最后引发出雷劫',\n",
       " '这种雷劫',\n",
       " '炼药界中又称之为丹劫',\n",
       " '威力极大',\n",
       " '一个不慎',\n",
       " '便是丹毁人亡的下场',\n",
       " '因此',\n",
       " '即便是一些有能力炼制七品丹药的炼药师',\n",
       " '也会尽量避免少炼制这种会引发丹劫的丹药',\n",
       " '而这也能猜测出',\n",
       " '为什么这么多年',\n",
       " '蛇人族从来没有弄出一枚天魂融血丹了。']"
      ]
     },
     "execution_count": 44,
     "metadata": {},
     "output_type": "execute_result"
    }
   ],
   "source": [
    "long_sentence = \"轻轻杞玩着手中卷轴,萧炎微微皱着眉,这种具有着改变人体质的奇丹,炼制起来困难度极大,失败率也极高,而且最可怕的是,这种阶别的丹药,在出炉之时,有着几率会引起天地能量波动,最后引发出雷劫,这种雷劫,炼药界中又称之为丹劫,威力极大,一个不慎,便是丹毁人亡的下场,因此,即便是一些有能力炼制七品丹药的炼药师,也会尽量避免少炼制这种会引发丹劫的丹药,而这也能猜测出,为什么这么多年,蛇人族从来没有弄出一枚天魂融血丹了。\"\n",
    "long_sentence.split(\",\")\n"
   ]
  },
  {
   "cell_type": "markdown",
   "metadata": {
    "pycharm": {
     "is_executing": false,
     "name": "#%% md\n"
    }
   },
   "source": []
  }
 ],
 "metadata": {
  "kernelspec": {
   "display_name": "Python 3",
   "language": "python",
   "name": "python3"
  },
  "language_info": {
   "codemirror_mode": {
    "name": "ipython",
    "version": 3
   },
   "file_extension": ".py",
   "mimetype": "text/x-python",
   "name": "python",
   "nbconvert_exporter": "python",
   "pygments_lexer": "ipython3",
   "version": "3.7.7"
  },
  "pycharm": {
   "stem_cell": {
    "cell_type": "raw",
    "metadata": {
     "collapsed": false
    },
    "source": []
   }
  }
 },
 "nbformat": 4,
 "nbformat_minor": 1
}
